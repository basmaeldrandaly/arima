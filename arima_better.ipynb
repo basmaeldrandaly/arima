{
  "nbformat": 4,
  "nbformat_minor": 0,
  "metadata": {
    "kernelspec": {
      "display_name": "Python 3",
      "language": "python",
      "name": "python3"
    },
    "language_info": {
      "codemirror_mode": {
        "name": "ipython",
        "version": 3
      },
      "file_extension": ".py",
      "mimetype": "text/x-python",
      "name": "python",
      "nbconvert_exporter": "python",
      "pygments_lexer": "ipython3",
      "version": "3.7.8"
    },
    "colab": {
      "name": "arima_better.ipynb",
      "provenance": [],
      "collapsed_sections": []
    }
  },
  "cells": [
    {
      "cell_type": "markdown",
      "metadata": {
        "id": "pCe7rpbkGNu2"
      },
      "source": [
        "# data preparation\n"
      ]
    },
    {
      "cell_type": "code",
      "metadata": {
        "id": "O9qSWBntGNvK"
      },
      "source": [
        "import numpy as np\n",
        "import pandas as pd\n",
        "\n",
        "import matplotlib.pyplot as plt\n",
        "%matplotlib inline"
      ],
      "execution_count": 5,
      "outputs": []
    },
    {
      "cell_type": "code",
      "metadata": {
        "id": "zfr9HkM1GNvM"
      },
      "source": [
        "\n",
        "df=pd.read_csv(\"totalconsmp.csv\",header=0,infer_datetime_format=True,parse_dates=['occurtime'],index_col=['occurtime'])\n"
      ],
      "execution_count": 7,
      "outputs": []
    },
    {
      "cell_type": "code",
      "metadata": {
        "id": "whac65KPGNvN",
        "colab": {
          "base_uri": "https://localhost:8080/",
          "height": 235
        },
        "outputId": "8f9efff7-d4ca-40e9-8dfa-b1cd293214b1"
      },
      "source": [
        "df.head()"
      ],
      "execution_count": 8,
      "outputs": [
        {
          "output_type": "execute_result",
          "data": {
            "text/html": [
              "<div>\n",
              "<style scoped>\n",
              "    .dataframe tbody tr th:only-of-type {\n",
              "        vertical-align: middle;\n",
              "    }\n",
              "\n",
              "    .dataframe tbody tr th {\n",
              "        vertical-align: top;\n",
              "    }\n",
              "\n",
              "    .dataframe thead th {\n",
              "        text-align: right;\n",
              "    }\n",
              "</style>\n",
              "<table border=\"1\" class=\"dataframe\">\n",
              "  <thead>\n",
              "    <tr style=\"text-align: right;\">\n",
              "      <th></th>\n",
              "      <th>power</th>\n",
              "    </tr>\n",
              "    <tr>\n",
              "      <th>occurtime</th>\n",
              "      <th></th>\n",
              "    </tr>\n",
              "  </thead>\n",
              "  <tbody>\n",
              "    <tr>\n",
              "      <th>2020-12-10 00:00:00</th>\n",
              "      <td>0.00</td>\n",
              "    </tr>\n",
              "    <tr>\n",
              "      <th>2020-12-10 00:05:00</th>\n",
              "      <td>130.16</td>\n",
              "    </tr>\n",
              "    <tr>\n",
              "      <th>2020-12-10 00:10:00</th>\n",
              "      <td>124.64</td>\n",
              "    </tr>\n",
              "    <tr>\n",
              "      <th>2020-12-10 00:15:00</th>\n",
              "      <td>121.36</td>\n",
              "    </tr>\n",
              "    <tr>\n",
              "      <th>2020-12-10 00:20:00</th>\n",
              "      <td>120.16</td>\n",
              "    </tr>\n",
              "  </tbody>\n",
              "</table>\n",
              "</div>"
            ],
            "text/plain": [
              "                      power\n",
              "occurtime                  \n",
              "2020-12-10 00:00:00    0.00\n",
              "2020-12-10 00:05:00  130.16\n",
              "2020-12-10 00:10:00  124.64\n",
              "2020-12-10 00:15:00  121.36\n",
              "2020-12-10 00:20:00  120.16"
            ]
          },
          "metadata": {
            "tags": []
          },
          "execution_count": 8
        }
      ]
    },
    {
      "cell_type": "code",
      "metadata": {
        "id": "Ux26gTAlGNvQ",
        "colab": {
          "base_uri": "https://localhost:8080/",
          "height": 235
        },
        "outputId": "826a45a1-fd37-4d76-f389-4209aedb3515"
      },
      "source": [
        "df.tail()"
      ],
      "execution_count": 9,
      "outputs": [
        {
          "output_type": "execute_result",
          "data": {
            "text/html": [
              "<div>\n",
              "<style scoped>\n",
              "    .dataframe tbody tr th:only-of-type {\n",
              "        vertical-align: middle;\n",
              "    }\n",
              "\n",
              "    .dataframe tbody tr th {\n",
              "        vertical-align: top;\n",
              "    }\n",
              "\n",
              "    .dataframe thead th {\n",
              "        text-align: right;\n",
              "    }\n",
              "</style>\n",
              "<table border=\"1\" class=\"dataframe\">\n",
              "  <thead>\n",
              "    <tr style=\"text-align: right;\">\n",
              "      <th></th>\n",
              "      <th>power</th>\n",
              "    </tr>\n",
              "    <tr>\n",
              "      <th>occurtime</th>\n",
              "      <th></th>\n",
              "    </tr>\n",
              "  </thead>\n",
              "  <tbody>\n",
              "    <tr>\n",
              "      <th>2021-02-18 11:30:00</th>\n",
              "      <td>13.68</td>\n",
              "    </tr>\n",
              "    <tr>\n",
              "      <th>2021-02-18 11:40:00</th>\n",
              "      <td>0.28</td>\n",
              "    </tr>\n",
              "    <tr>\n",
              "      <th>2021-02-18 11:45:00</th>\n",
              "      <td>0.27</td>\n",
              "    </tr>\n",
              "    <tr>\n",
              "      <th>2021-02-18 11:50:00</th>\n",
              "      <td>0.00</td>\n",
              "    </tr>\n",
              "    <tr>\n",
              "      <th>2021-02-18 11:55:00</th>\n",
              "      <td>0.00</td>\n",
              "    </tr>\n",
              "  </tbody>\n",
              "</table>\n",
              "</div>"
            ],
            "text/plain": [
              "                     power\n",
              "occurtime                 \n",
              "2021-02-18 11:30:00  13.68\n",
              "2021-02-18 11:40:00   0.28\n",
              "2021-02-18 11:45:00   0.27\n",
              "2021-02-18 11:50:00   0.00\n",
              "2021-02-18 11:55:00   0.00"
            ]
          },
          "metadata": {
            "tags": []
          },
          "execution_count": 9
        }
      ]
    },
    {
      "cell_type": "code",
      "metadata": {
        "id": "GL3Gso5jGNvR",
        "colab": {
          "base_uri": "https://localhost:8080/"
        },
        "outputId": "364edb6c-bf4c-45c1-ecba-11ba3519e169"
      },
      "source": [
        "df.index"
      ],
      "execution_count": 10,
      "outputs": [
        {
          "output_type": "execute_result",
          "data": {
            "text/plain": [
              "DatetimeIndex(['2020-12-10 00:00:00', '2020-12-10 00:05:00',\n",
              "               '2020-12-10 00:10:00', '2020-12-10 00:15:00',\n",
              "               '2020-12-10 00:20:00', '2020-12-10 00:25:00',\n",
              "               '2020-12-10 00:30:00', '2020-12-10 00:35:00',\n",
              "               '2020-12-10 00:40:00', '2020-12-10 00:45:00',\n",
              "               ...\n",
              "               '2021-02-18 11:05:00', '2021-02-18 11:10:00',\n",
              "               '2021-02-18 11:15:00', '2021-02-18 11:20:00',\n",
              "               '2021-02-18 11:25:00', '2021-02-18 11:30:00',\n",
              "               '2021-02-18 11:40:00', '2021-02-18 11:45:00',\n",
              "               '2021-02-18 11:50:00', '2021-02-18 11:55:00'],\n",
              "              dtype='datetime64[ns]', name='occurtime', length=19681, freq=None)"
            ]
          },
          "metadata": {
            "tags": []
          },
          "execution_count": 10
        }
      ]
    },
    {
      "cell_type": "code",
      "metadata": {
        "id": "P5VGnj23GNvS"
      },
      "source": [
        "\n",
        "#df=df.iloc[192:]\n",
        "#df.head(288)\n",
        "#df.tail()"
      ],
      "execution_count": null,
      "outputs": []
    },
    {
      "cell_type": "code",
      "metadata": {
        "id": "4JsgLlQLGNvT",
        "colab": {
          "base_uri": "https://localhost:8080/"
        },
        "outputId": "11ffb4b7-be8d-4bb0-dfdf-17b4c0b28483"
      },
      "source": [
        "df.info()"
      ],
      "execution_count": 11,
      "outputs": [
        {
          "output_type": "stream",
          "text": [
            "<class 'pandas.core.frame.DataFrame'>\n",
            "DatetimeIndex: 19681 entries, 2020-12-10 00:00:00 to 2021-02-18 11:55:00\n",
            "Data columns (total 1 columns):\n",
            " #   Column  Non-Null Count  Dtype  \n",
            "---  ------  --------------  -----  \n",
            " 0   power   19681 non-null  float64\n",
            "dtypes: float64(1)\n",
            "memory usage: 307.5 KB\n"
          ],
          "name": "stdout"
        }
      ]
    },
    {
      "cell_type": "code",
      "metadata": {
        "id": "9H7c9a__GNvU"
      },
      "source": [
        "#resample time to days\n",
        "daily_data=df.resample('D').sum()"
      ],
      "execution_count": 13,
      "outputs": []
    },
    {
      "cell_type": "code",
      "metadata": {
        "id": "otSB4_b6GNvV"
      },
      "source": [
        "#df['occurtime'] = pd.to_datetime(df['occurtime'],format=\"%Y-%m-%d_%H:%M:%S\")\n",
        "\n",
        "\n",
        "\n",
        "#df.to_csv('totalconsmp.csv',index=False,date_format=\"%Y-%m-%d %H:%M:%S\")"
      ],
      "execution_count": null,
      "outputs": []
    },
    {
      "cell_type": "code",
      "metadata": {
        "id": "MghGsRm0GNvV",
        "colab": {
          "base_uri": "https://localhost:8080/",
          "height": 235
        },
        "outputId": "2377f187-1a4c-45d2-9413-a549b83540f7"
      },
      "source": [
        "daily_data.head()"
      ],
      "execution_count": 14,
      "outputs": [
        {
          "output_type": "execute_result",
          "data": {
            "text/html": [
              "<div>\n",
              "<style scoped>\n",
              "    .dataframe tbody tr th:only-of-type {\n",
              "        vertical-align: middle;\n",
              "    }\n",
              "\n",
              "    .dataframe tbody tr th {\n",
              "        vertical-align: top;\n",
              "    }\n",
              "\n",
              "    .dataframe thead th {\n",
              "        text-align: right;\n",
              "    }\n",
              "</style>\n",
              "<table border=\"1\" class=\"dataframe\">\n",
              "  <thead>\n",
              "    <tr style=\"text-align: right;\">\n",
              "      <th></th>\n",
              "      <th>power</th>\n",
              "    </tr>\n",
              "    <tr>\n",
              "      <th>occurtime</th>\n",
              "      <th></th>\n",
              "    </tr>\n",
              "  </thead>\n",
              "  <tbody>\n",
              "    <tr>\n",
              "      <th>2020-12-10</th>\n",
              "      <td>21980.39</td>\n",
              "    </tr>\n",
              "    <tr>\n",
              "      <th>2020-12-11</th>\n",
              "      <td>16564.25</td>\n",
              "    </tr>\n",
              "    <tr>\n",
              "      <th>2020-12-12</th>\n",
              "      <td>20359.33</td>\n",
              "    </tr>\n",
              "    <tr>\n",
              "      <th>2020-12-13</th>\n",
              "      <td>21630.15</td>\n",
              "    </tr>\n",
              "    <tr>\n",
              "      <th>2020-12-14</th>\n",
              "      <td>22984.32</td>\n",
              "    </tr>\n",
              "  </tbody>\n",
              "</table>\n",
              "</div>"
            ],
            "text/plain": [
              "               power\n",
              "occurtime           \n",
              "2020-12-10  21980.39\n",
              "2020-12-11  16564.25\n",
              "2020-12-12  20359.33\n",
              "2020-12-13  21630.15\n",
              "2020-12-14  22984.32"
            ]
          },
          "metadata": {
            "tags": []
          },
          "execution_count": 14
        }
      ]
    },
    {
      "cell_type": "code",
      "metadata": {
        "id": "zzondq2hGNvW",
        "colab": {
          "base_uri": "https://localhost:8080/",
          "height": 297
        },
        "outputId": "98203e68-a581-43c8-8d15-52061c2b95bc"
      },
      "source": [
        "daily_data.describe()"
      ],
      "execution_count": 15,
      "outputs": [
        {
          "output_type": "execute_result",
          "data": {
            "text/html": [
              "<div>\n",
              "<style scoped>\n",
              "    .dataframe tbody tr th:only-of-type {\n",
              "        vertical-align: middle;\n",
              "    }\n",
              "\n",
              "    .dataframe tbody tr th {\n",
              "        vertical-align: top;\n",
              "    }\n",
              "\n",
              "    .dataframe thead th {\n",
              "        text-align: right;\n",
              "    }\n",
              "</style>\n",
              "<table border=\"1\" class=\"dataframe\">\n",
              "  <thead>\n",
              "    <tr style=\"text-align: right;\">\n",
              "      <th></th>\n",
              "      <th>power</th>\n",
              "    </tr>\n",
              "  </thead>\n",
              "  <tbody>\n",
              "    <tr>\n",
              "      <th>count</th>\n",
              "      <td>71.000000</td>\n",
              "    </tr>\n",
              "    <tr>\n",
              "      <th>mean</th>\n",
              "      <td>19206.970141</td>\n",
              "    </tr>\n",
              "    <tr>\n",
              "      <th>std</th>\n",
              "      <td>7950.674991</td>\n",
              "    </tr>\n",
              "    <tr>\n",
              "      <th>min</th>\n",
              "      <td>0.000000</td>\n",
              "    </tr>\n",
              "    <tr>\n",
              "      <th>25%</th>\n",
              "      <td>16912.785000</td>\n",
              "    </tr>\n",
              "    <tr>\n",
              "      <th>50%</th>\n",
              "      <td>20717.400000</td>\n",
              "    </tr>\n",
              "    <tr>\n",
              "      <th>75%</th>\n",
              "      <td>21960.895000</td>\n",
              "    </tr>\n",
              "    <tr>\n",
              "      <th>max</th>\n",
              "      <td>55357.790000</td>\n",
              "    </tr>\n",
              "  </tbody>\n",
              "</table>\n",
              "</div>"
            ],
            "text/plain": [
              "              power\n",
              "count     71.000000\n",
              "mean   19206.970141\n",
              "std     7950.674991\n",
              "min        0.000000\n",
              "25%    16912.785000\n",
              "50%    20717.400000\n",
              "75%    21960.895000\n",
              "max    55357.790000"
            ]
          },
          "metadata": {
            "tags": []
          },
          "execution_count": 15
        }
      ]
    },
    {
      "cell_type": "code",
      "metadata": {
        "id": "Ze58o2-aGNvX",
        "colab": {
          "base_uri": "https://localhost:8080/"
        },
        "outputId": "09f25151-b71e-48e0-85dc-ddcef6470992"
      },
      "source": [
        "daily_data.info()"
      ],
      "execution_count": 16,
      "outputs": [
        {
          "output_type": "stream",
          "text": [
            "<class 'pandas.core.frame.DataFrame'>\n",
            "DatetimeIndex: 71 entries, 2020-12-10 to 2021-02-18\n",
            "Freq: D\n",
            "Data columns (total 1 columns):\n",
            " #   Column  Non-Null Count  Dtype  \n",
            "---  ------  --------------  -----  \n",
            " 0   power   71 non-null     float64\n",
            "dtypes: float64(1)\n",
            "memory usage: 1.1 KB\n"
          ],
          "name": "stdout"
        }
      ]
    },
    {
      "cell_type": "markdown",
      "metadata": {
        "id": "onxcHjuJGNvY"
      },
      "source": [
        "## Step 2: Visualize the Data"
      ]
    },
    {
      "cell_type": "code",
      "metadata": {
        "id": "Je2ZB7ozGNvY",
        "colab": {
          "base_uri": "https://localhost:8080/",
          "height": 331
        },
        "outputId": "f0ac4d6b-e0be-400d-eee7-1d8ff266e2b5"
      },
      "source": [
        "daily_data.plot()"
      ],
      "execution_count": 17,
      "outputs": [
        {
          "output_type": "execute_result",
          "data": {
            "text/plain": [
              "<matplotlib.axes._subplots.AxesSubplot at 0x7f8765e6fe50>"
            ]
          },
          "metadata": {
            "tags": []
          },
          "execution_count": 17
        },
        {
          "output_type": "display_data",
          "data": {
            "image/png": "[encoded data removed]",
            "text/plain": [
              "<Figure size 432x288 with 1 Axes>"
            ]
          },
          "metadata": {
            "tags": [],
            "needs_background": "light"
          }
        }
      ]
    },
    {
      "cell_type": "code",
      "metadata": {
        "id": "n4jR3SBxGNvZ"
      },
      "source": [
        "### Testing For Stationarity\n",
        "\n"
      ],
      "execution_count": null,
      "outputs": []
    },
    {
      "cell_type": "code",
      "metadata": {
        "id": "rX0x7q1xGNva"
      },
      "source": [
        "from statsmodels.tsa.stattools import adfuller\n",
        "test_result=adfuller(daily_data['power'])"
      ],
      "execution_count": 18,
      "outputs": []
    },
    {
      "cell_type": "code",
      "metadata": {
        "id": "2IufmuQQGNva"
      },
      "source": [
        "#Ho: It is non stationary\n",
        "#H1: It is stationary\n",
        "\n",
        "def adfuller_test(sales):\n",
        "    result=adfuller(sales)\n",
        "    labels = ['ADF Test Statistic','p-value','#Lags Used','Number of Observations Used']\n",
        "    for value,label in zip(result,labels):\n",
        "        print(label+' : '+str(value) )\n",
        "    if result[1] <= 0.05:\n",
        "        print(\"strong evidence against the null hypothesis(Ho), reject the null hypothesis. Data has no unit root and is stationary\")\n",
        "    else:\n",
        "        print(\"weak evidence against null hypothesis, time series has a unit root, indicating it is non-stationary \")\n",
        "    "
      ],
      "execution_count": 19,
      "outputs": []
    },
    {
      "cell_type": "code",
      "metadata": {
        "id": "bTNEUqRmGNvb",
        "colab": {
          "base_uri": "https://localhost:8080/"
        },
        "outputId": "20430bd6-6c82-4352-8ccc-6e8809d97487"
      },
      "source": [
        "adfuller_test(daily_data['power'])"
      ],
      "execution_count": 20,
      "outputs": [
        {
          "output_type": "stream",
          "text": [
            "ADF Test Statistic : -3.03495791637911\n",
            "p-value : 0.03175624149284788\n",
            "#Lags Used : 5\n",
            "Number of Observations Used : 65\n",
            "strong evidence against the null hypothesis(Ho), reject the null hypothesis. Data has no unit root and is stationary\n"
          ],
          "name": "stdout"
        }
      ]
    },
    {
      "cell_type": "markdown",
      "metadata": {
        "id": "jKLGg-BlGNvb"
      },
      "source": [
        "## Differencing"
      ]
    },
    {
      "cell_type": "code",
      "metadata": {
        "id": "gLq-dFceGNvc"
      },
      "source": [
        "daily_data['power First Difference'] = daily_data['power'] - daily_data['power'].shift(1)"
      ],
      "execution_count": 21,
      "outputs": []
    },
    {
      "cell_type": "code",
      "metadata": {
        "id": "pOfbhwHIGNvc",
        "colab": {
          "base_uri": "https://localhost:8080/"
        },
        "outputId": "6acbbaaa-59aa-481c-f2f2-c8fc2ccaacfd"
      },
      "source": [
        "daily_data['power'].shift(1)"
      ],
      "execution_count": 22,
      "outputs": [
        {
          "output_type": "execute_result",
          "data": {
            "text/plain": [
              "occurtime\n",
              "2020-12-10         NaN\n",
              "2020-12-11    21980.39\n",
              "2020-12-12    16564.25\n",
              "2020-12-13    20359.33\n",
              "2020-12-14    21630.15\n",
              "                ...   \n",
              "2021-02-14    21021.60\n",
              "2021-02-15    21124.72\n",
              "2021-02-16    20928.51\n",
              "2021-02-17    19299.25\n",
              "2021-02-18    17978.39\n",
              "Freq: D, Name: power, Length: 71, dtype: float64"
            ]
          },
          "metadata": {
            "tags": []
          },
          "execution_count": 22
        }
      ]
    },
    {
      "cell_type": "code",
      "metadata": {
        "id": "G6hIuAhoGNvd"
      },
      "source": [
        "#daily_data['Seasonal First Difference']=daily_data['power']-daily_data['power'].shift(12)"
      ],
      "execution_count": null,
      "outputs": []
    },
    {
      "cell_type": "code",
      "metadata": {
        "id": "ONxIitaJGNvd",
        "colab": {
          "base_uri": "https://localhost:8080/",
          "height": 514
        },
        "outputId": "a923eb57-53f0-40f2-a2a3-0fc162fa6240"
      },
      "source": [
        "daily_data.head(14)"
      ],
      "execution_count": 23,
      "outputs": [
        {
          "output_type": "execute_result",
          "data": {
            "text/html": [
              "<div>\n",
              "<style scoped>\n",
              "    .dataframe tbody tr th:only-of-type {\n",
              "        vertical-align: middle;\n",
              "    }\n",
              "\n",
              "    .dataframe tbody tr th {\n",
              "        vertical-align: top;\n",
              "    }\n",
              "\n",
              "    .dataframe thead th {\n",
              "        text-align: right;\n",
              "    }\n",
              "</style>\n",
              "<table border=\"1\" class=\"dataframe\">\n",
              "  <thead>\n",
              "    <tr style=\"text-align: right;\">\n",
              "      <th></th>\n",
              "      <th>power</th>\n",
              "      <th>power First Difference</th>\n",
              "    </tr>\n",
              "    <tr>\n",
              "      <th>occurtime</th>\n",
              "      <th></th>\n",
              "      <th></th>\n",
              "    </tr>\n",
              "  </thead>\n",
              "  <tbody>\n",
              "    <tr>\n",
              "      <th>2020-12-10</th>\n",
              "      <td>21980.39</td>\n",
              "      <td>NaN</td>\n",
              "    </tr>\n",
              "    <tr>\n",
              "      <th>2020-12-11</th>\n",
              "      <td>16564.25</td>\n",
              "      <td>-5416.14</td>\n",
              "    </tr>\n",
              "    <tr>\n",
              "      <th>2020-12-12</th>\n",
              "      <td>20359.33</td>\n",
              "      <td>3795.08</td>\n",
              "    </tr>\n",
              "    <tr>\n",
              "      <th>2020-12-13</th>\n",
              "      <td>21630.15</td>\n",
              "      <td>1270.82</td>\n",
              "    </tr>\n",
              "    <tr>\n",
              "      <th>2020-12-14</th>\n",
              "      <td>22984.32</td>\n",
              "      <td>1354.17</td>\n",
              "    </tr>\n",
              "    <tr>\n",
              "      <th>2020-12-15</th>\n",
              "      <td>21369.12</td>\n",
              "      <td>-1615.20</td>\n",
              "    </tr>\n",
              "    <tr>\n",
              "      <th>2020-12-16</th>\n",
              "      <td>20717.40</td>\n",
              "      <td>-651.72</td>\n",
              "    </tr>\n",
              "    <tr>\n",
              "      <th>2020-12-17</th>\n",
              "      <td>21118.59</td>\n",
              "      <td>401.19</td>\n",
              "    </tr>\n",
              "    <tr>\n",
              "      <th>2020-12-18</th>\n",
              "      <td>21263.60</td>\n",
              "      <td>145.01</td>\n",
              "    </tr>\n",
              "    <tr>\n",
              "      <th>2020-12-19</th>\n",
              "      <td>19928.10</td>\n",
              "      <td>-1335.50</td>\n",
              "    </tr>\n",
              "    <tr>\n",
              "      <th>2020-12-20</th>\n",
              "      <td>21510.46</td>\n",
              "      <td>1582.36</td>\n",
              "    </tr>\n",
              "    <tr>\n",
              "      <th>2020-12-21</th>\n",
              "      <td>22568.86</td>\n",
              "      <td>1058.40</td>\n",
              "    </tr>\n",
              "    <tr>\n",
              "      <th>2020-12-22</th>\n",
              "      <td>21941.40</td>\n",
              "      <td>-627.46</td>\n",
              "    </tr>\n",
              "    <tr>\n",
              "      <th>2020-12-23</th>\n",
              "      <td>21195.96</td>\n",
              "      <td>-745.44</td>\n",
              "    </tr>\n",
              "  </tbody>\n",
              "</table>\n",
              "</div>"
            ],
            "text/plain": [
              "               power  power First Difference\n",
              "occurtime                                   \n",
              "2020-12-10  21980.39                     NaN\n",
              "2020-12-11  16564.25                -5416.14\n",
              "2020-12-12  20359.33                 3795.08\n",
              "2020-12-13  21630.15                 1270.82\n",
              "2020-12-14  22984.32                 1354.17\n",
              "2020-12-15  21369.12                -1615.20\n",
              "2020-12-16  20717.40                 -651.72\n",
              "2020-12-17  21118.59                  401.19\n",
              "2020-12-18  21263.60                  145.01\n",
              "2020-12-19  19928.10                -1335.50\n",
              "2020-12-20  21510.46                 1582.36\n",
              "2020-12-21  22568.86                 1058.40\n",
              "2020-12-22  21941.40                 -627.46\n",
              "2020-12-23  21195.96                 -745.44"
            ]
          },
          "metadata": {
            "tags": []
          },
          "execution_count": 23
        }
      ]
    },
    {
      "cell_type": "code",
      "metadata": {
        "id": "_85D5GGlGNve",
        "colab": {
          "base_uri": "https://localhost:8080/"
        },
        "outputId": "f24316d6-c9f1-42da-ee33-eb9fefa8d701"
      },
      "source": [
        "## Again test dickey fuller test\n",
        "adfuller_test(daily_data['power First Difference'].dropna())"
      ],
      "execution_count": 24,
      "outputs": [
        {
          "output_type": "stream",
          "text": [
            "ADF Test Statistic : -4.625220682389512\n",
            "p-value : 0.0001160274838026096\n",
            "#Lags Used : 5\n",
            "Number of Observations Used : 64\n",
            "strong evidence against the null hypothesis(Ho), reject the null hypothesis. Data has no unit root and is stationary\n"
          ],
          "name": "stdout"
        }
      ]
    },
    {
      "cell_type": "code",
      "metadata": {
        "id": "QpB5133bGNvf",
        "colab": {
          "base_uri": "https://localhost:8080/",
          "height": 331
        },
        "outputId": "c907b287-ca76-4280-bdf6-39d039bbd1c6"
      },
      "source": [
        "daily_data['power First Difference']=daily_data['power First Difference'].dropna()\n",
        "daily_data['power First Difference'].plot()"
      ],
      "execution_count": 35,
      "outputs": [
        {
          "output_type": "execute_result",
          "data": {
            "text/plain": [
              "<matplotlib.axes._subplots.AxesSubplot at 0x7f8759890050>"
            ]
          },
          "metadata": {
            "tags": []
          },
          "execution_count": 35
        },
        {
          "output_type": "display_data",
          "data": {
            "image/png": "[encoded data removed]",
            "text/plain": [
              "<Figure size 432x288 with 1 Axes>"
            ]
          },
          "metadata": {
            "tags": [],
            "needs_background": "light"
          }
        }
      ]
    },
    {
      "cell_type": "markdown",
      "metadata": {
        "id": "-BwA8Wa1GNvg"
      },
      "source": [
        ""
      ]
    },
    {
      "cell_type": "code",
      "metadata": {
        "id": "XOPgLLqfGNvg",
        "colab": {
          "base_uri": "https://localhost:8080/"
        },
        "outputId": "436a6aef-98b8-470c-fa05-7c836a4bc56e"
      },
      "source": [
        "!pip install pmdarima\n",
        "from pmdarima import auto_arima"
      ],
      "execution_count": 2,
      "outputs": [
        {
          "output_type": "stream",
          "text": [
            "Collecting pmdarima\n",
            "\u001b[?25l  Downloading https://files.pythonhosted.org/packages/e4/a8/bdf15174e35d072e145d16388b1d3bc7605b752610170cb022a290411427/pmdarima-1.8.0-cp37-cp37m-manylinux1_x86_64.whl (1.5MB)\n",
            "\u001b[K     |████████████████████████████████| 1.5MB 8.9MB/s \n",
            "\u001b[?25hRequirement already satisfied: joblib>=0.11 in /usr/local/lib/python3.7/dist-packages (from pmdarima) (1.0.1)\n",
            "Requirement already satisfied: pandas>=0.19 in /usr/local/lib/python3.7/dist-packages (from pmdarima) (1.1.5)\n",
            "Requirement already satisfied: scikit-learn>=0.22 in /usr/local/lib/python3.7/dist-packages (from pmdarima) (0.22.2.post1)\n",
            "Requirement already satisfied: urllib3 in /usr/local/lib/python3.7/dist-packages (from pmdarima) (1.24.3)\n",
            "Collecting statsmodels!=0.12.0,>=0.11\n",
            "\u001b[?25l  Downloading https://files.pythonhosted.org/packages/da/69/8eef30a6237c54f3c0b524140e2975f4b1eea3489b45eb3339574fc8acee/statsmodels-0.12.2-cp37-cp37m-manylinux1_x86_64.whl (9.5MB)\n",
            "\u001b[K     |████████████████████████████████| 9.5MB 10.7MB/s \n",
            "\u001b[?25hRequirement already satisfied: scipy>=1.3.2 in /usr/local/lib/python3.7/dist-packages (from pmdarima) (1.4.1)\n",
            "Collecting Cython<0.29.18,>=0.29\n",
            "\u001b[?25l  Downloading https://files.pythonhosted.org/packages/dc/6c/198da24bf0a1d5b5ee6119e891c5300bb1b0b8904832fac9ff62d4e381c9/Cython-0.29.17-cp37-cp37m-manylinux1_x86_64.whl (2.1MB)\n",
            "\u001b[K     |████████████████████████████████| 2.1MB 43.3MB/s \n",
            "\u001b[?25hRequirement already satisfied: setuptools!=50.0.0,>=38.6.0 in /usr/local/lib/python3.7/dist-packages (from pmdarima) (54.1.2)\n",
            "Requirement already satisfied: numpy>=1.17.3 in /usr/local/lib/python3.7/dist-packages (from pmdarima) (1.19.5)\n",
            "Requirement already satisfied: pytz>=2017.2 in /usr/local/lib/python3.7/dist-packages (from pandas>=0.19->pmdarima) (2018.9)\n",
            "Requirement already satisfied: python-dateutil>=2.7.3 in /usr/local/lib/python3.7/dist-packages (from pandas>=0.19->pmdarima) (2.8.1)\n",
            "Requirement already satisfied: patsy>=0.5 in /usr/local/lib/python3.7/dist-packages (from statsmodels!=0.12.0,>=0.11->pmdarima) (0.5.1)\n",
            "Requirement already satisfied: six>=1.5 in /usr/local/lib/python3.7/dist-packages (from python-dateutil>=2.7.3->pandas>=0.19->pmdarima) (1.15.0)\n",
            "Installing collected packages: statsmodels, Cython, pmdarima\n",
            "  Found existing installation: statsmodels 0.10.2\n",
            "    Uninstalling statsmodels-0.10.2:\n",
            "      Successfully uninstalled statsmodels-0.10.2\n",
            "  Found existing installation: Cython 0.29.22\n",
            "    Uninstalling Cython-0.29.22:\n",
            "      Successfully uninstalled Cython-0.29.22\n",
            "Successfully installed Cython-0.29.17 pmdarima-1.8.0 statsmodels-0.12.2\n"
          ],
          "name": "stdout"
        }
      ]
    },
    {
      "cell_type": "code",
      "metadata": {
        "id": "-YedPyBCICik"
      },
      "source": [
        "import warnings\n",
        "warnings.filterwarnings('ignore')"
      ],
      "execution_count": 3,
      "outputs": []
    },
    {
      "cell_type": "code",
      "metadata": {
        "colab": {
          "base_uri": "https://localhost:8080/"
        },
        "id": "s0Hzu2yuIFxG",
        "outputId": "b02c9e43-1b27-4c04-953f-4f18141c36bb"
      },
      "source": [
        "stepwise_fit=auto_arima(daily_data['power First Difference'].dropna(),trace=True,supress_warnings=True)"
      ],
      "execution_count": 27,
      "outputs": [
        {
          "output_type": "stream",
          "text": [
            "Performing stepwise search to minimize aic\n",
            " ARIMA(2,0,2)(0,0,0)[0] intercept   : AIC=inf, Time=0.28 sec\n",
            " ARIMA(0,0,0)(0,0,0)[0] intercept   : AIC=1481.408, Time=0.01 sec\n",
            " ARIMA(1,0,0)(0,0,0)[0] intercept   : AIC=1475.830, Time=0.02 sec\n",
            " ARIMA(0,0,1)(0,0,0)[0] intercept   : AIC=1464.174, Time=0.03 sec\n",
            " ARIMA(0,0,0)(0,0,0)[0]             : AIC=1479.446, Time=0.01 sec\n",
            " ARIMA(1,0,1)(0,0,0)[0] intercept   : AIC=inf, Time=0.21 sec\n",
            " ARIMA(0,0,2)(0,0,0)[0] intercept   : AIC=1460.735, Time=0.12 sec\n",
            " ARIMA(1,0,2)(0,0,0)[0] intercept   : AIC=1460.127, Time=0.07 sec\n",
            " ARIMA(1,0,3)(0,0,0)[0] intercept   : AIC=1461.612, Time=0.30 sec\n",
            " ARIMA(0,0,3)(0,0,0)[0] intercept   : AIC=1466.009, Time=0.06 sec\n",
            " ARIMA(2,0,1)(0,0,0)[0] intercept   : AIC=1465.142, Time=0.07 sec\n",
            " ARIMA(2,0,3)(0,0,0)[0] intercept   : AIC=1458.022, Time=0.27 sec\n",
            " ARIMA(3,0,3)(0,0,0)[0] intercept   : AIC=1456.139, Time=0.15 sec\n",
            " ARIMA(3,0,2)(0,0,0)[0] intercept   : AIC=inf, Time=0.31 sec\n",
            " ARIMA(4,0,3)(0,0,0)[0] intercept   : AIC=1456.135, Time=0.35 sec\n",
            " ARIMA(4,0,2)(0,0,0)[0] intercept   : AIC=1464.371, Time=0.14 sec\n",
            " ARIMA(5,0,3)(0,0,0)[0] intercept   : AIC=1457.328, Time=0.47 sec\n",
            " ARIMA(4,0,4)(0,0,0)[0] intercept   : AIC=1459.056, Time=0.41 sec\n",
            " ARIMA(3,0,4)(0,0,0)[0] intercept   : AIC=1459.355, Time=0.26 sec\n",
            " ARIMA(5,0,2)(0,0,0)[0] intercept   : AIC=1463.092, Time=0.18 sec\n",
            " ARIMA(5,0,4)(0,0,0)[0] intercept   : AIC=inf, Time=0.58 sec\n",
            " ARIMA(4,0,3)(0,0,0)[0]             : AIC=1455.143, Time=0.33 sec\n",
            " ARIMA(3,0,3)(0,0,0)[0]             : AIC=1454.701, Time=0.14 sec\n",
            " ARIMA(2,0,3)(0,0,0)[0]             : AIC=1456.133, Time=0.24 sec\n",
            " ARIMA(3,0,2)(0,0,0)[0]             : AIC=1459.024, Time=0.11 sec\n",
            " ARIMA(3,0,4)(0,0,0)[0]             : AIC=1457.902, Time=0.18 sec\n",
            " ARIMA(2,0,2)(0,0,0)[0]             : AIC=1459.140, Time=0.08 sec\n",
            " ARIMA(2,0,4)(0,0,0)[0]             : AIC=1456.363, Time=0.18 sec\n",
            " ARIMA(4,0,2)(0,0,0)[0]             : AIC=1460.700, Time=0.14 sec\n",
            " ARIMA(4,0,4)(0,0,0)[0]             : AIC=1458.133, Time=0.34 sec\n",
            "\n",
            "Best model:  ARIMA(3,0,3)(0,0,0)[0]          \n",
            "Total fit time: 6.074 seconds\n"
          ],
          "name": "stdout"
        }
      ]
    },
    {
      "cell_type": "code",
      "metadata": {
        "colab": {
          "base_uri": "https://localhost:8080/",
          "height": 524
        },
        "id": "Mt6tLGBfJGkE",
        "outputId": "85aaa639-b4f0-4c78-8a1b-cafd57b53d3a"
      },
      "source": [
        "stepwise_fit.summary()"
      ],
      "execution_count": 28,
      "outputs": [
        {
          "output_type": "execute_result",
          "data": {
            "text/html": [
              "<table class=\"simpletable\">\n",
              "<caption>SARIMAX Results</caption>\n",
              "<tr>\n",
              "  <th>Dep. Variable:</th>           <td>y</td>        <th>  No. Observations:  </th>    <td>70</td>   \n",
              "</tr>\n",
              "<tr>\n",
              "  <th>Model:</th>           <td>SARIMAX(3, 0, 3)</td> <th>  Log Likelihood     </th> <td>-720.351</td>\n",
              "</tr>\n",
              "<tr>\n",
              "  <th>Date:</th>            <td>Sat, 27 Mar 2021</td> <th>  AIC                </th> <td>1454.701</td>\n",
              "</tr>\n",
              "<tr>\n",
              "  <th>Time:</th>                <td>19:23:56</td>     <th>  BIC                </th> <td>1470.440</td>\n",
              "</tr>\n",
              "<tr>\n",
              "  <th>Sample:</th>                  <td>0</td>        <th>  HQIC               </th> <td>1460.953</td>\n",
              "</tr>\n",
              "<tr>\n",
              "  <th></th>                       <td> - 70</td>      <th>                     </th>     <td> </td>   \n",
              "</tr>\n",
              "<tr>\n",
              "  <th>Covariance Type:</th>        <td>opg</td>       <th>                     </th>     <td> </td>   \n",
              "</tr>\n",
              "</table>\n",
              "<table class=\"simpletable\">\n",
              "<tr>\n",
              "     <td></td>       <th>coef</th>     <th>std err</th>      <th>z</th>      <th>P>|z|</th>  <th>[0.025</th>    <th>0.975]</th>  \n",
              "</tr>\n",
              "<tr>\n",
              "  <th>ar.L1</th>  <td>   -1.1206</td> <td>    0.249</td> <td>   -4.497</td> <td> 0.000</td> <td>   -1.609</td> <td>   -0.632</td>\n",
              "</tr>\n",
              "<tr>\n",
              "  <th>ar.L2</th>  <td>   -0.2522</td> <td>    0.250</td> <td>   -1.011</td> <td> 0.312</td> <td>   -0.741</td> <td>    0.237</td>\n",
              "</tr>\n",
              "<tr>\n",
              "  <th>ar.L3</th>  <td>    0.3520</td> <td>    0.150</td> <td>    2.344</td> <td> 0.019</td> <td>    0.058</td> <td>    0.646</td>\n",
              "</tr>\n",
              "<tr>\n",
              "  <th>ma.L1</th>  <td>    0.6709</td> <td>    0.261</td> <td>    2.571</td> <td> 0.010</td> <td>    0.159</td> <td>    1.182</td>\n",
              "</tr>\n",
              "<tr>\n",
              "  <th>ma.L2</th>  <td>   -0.7282</td> <td>    0.197</td> <td>   -3.705</td> <td> 0.000</td> <td>   -1.114</td> <td>   -0.343</td>\n",
              "</tr>\n",
              "<tr>\n",
              "  <th>ma.L3</th>  <td>   -0.8100</td> <td>    0.193</td> <td>   -4.194</td> <td> 0.000</td> <td>   -1.188</td> <td>   -0.431</td>\n",
              "</tr>\n",
              "<tr>\n",
              "  <th>sigma2</th> <td> 6.312e+07</td> <td> 1.24e-09</td> <td> 5.09e+16</td> <td> 0.000</td> <td> 6.31e+07</td> <td> 6.31e+07</td>\n",
              "</tr>\n",
              "</table>\n",
              "<table class=\"simpletable\">\n",
              "<tr>\n",
              "  <th>Ljung-Box (L1) (Q):</th>     <td>0.00</td> <th>  Jarque-Bera (JB):  </th> <td>59.03</td>\n",
              "</tr>\n",
              "<tr>\n",
              "  <th>Prob(Q):</th>                <td>0.99</td> <th>  Prob(JB):          </th> <td>0.00</td> \n",
              "</tr>\n",
              "<tr>\n",
              "  <th>Heteroskedasticity (H):</th> <td>9.73</td> <th>  Skew:              </th> <td>-0.06</td>\n",
              "</tr>\n",
              "<tr>\n",
              "  <th>Prob(H) (two-sided):</th>    <td>0.00</td> <th>  Kurtosis:          </th> <td>7.50</td> \n",
              "</tr>\n",
              "</table><br/><br/>Warnings:<br/>[1] Covariance matrix calculated using the outer product of gradients (complex-step).<br/>[2] Covariance matrix is singular or near-singular, with condition number 1.55e+33. Standard errors may be unstable."
            ],
            "text/plain": [
              "<class 'statsmodels.iolib.summary.Summary'>\n",
              "\"\"\"\n",
              "                               SARIMAX Results                                \n",
              "==============================================================================\n",
              "Dep. Variable:                      y   No. Observations:                   70\n",
              "Model:               SARIMAX(3, 0, 3)   Log Likelihood                -720.351\n",
              "Date:                Sat, 27 Mar 2021   AIC                           1454.701\n",
              "Time:                        19:23:56   BIC                           1470.440\n",
              "Sample:                             0   HQIC                          1460.953\n",
              "                                 - 70                                         \n",
              "Covariance Type:                  opg                                         \n",
              "==============================================================================\n",
              "                 coef    std err          z      P>|z|      [0.025      0.975]\n",
              "------------------------------------------------------------------------------\n",
              "ar.L1         -1.1206      0.249     -4.497      0.000      -1.609      -0.632\n",
              "ar.L2         -0.2522      0.250     -1.011      0.312      -0.741       0.237\n",
              "ar.L3          0.3520      0.150      2.344      0.019       0.058       0.646\n",
              "ma.L1          0.6709      0.261      2.571      0.010       0.159       1.182\n",
              "ma.L2         -0.7282      0.197     -3.705      0.000      -1.114      -0.343\n",
              "ma.L3         -0.8100      0.193     -4.194      0.000      -1.188      -0.431\n",
              "sigma2      6.312e+07   1.24e-09   5.09e+16      0.000    6.31e+07    6.31e+07\n",
              "===================================================================================\n",
              "Ljung-Box (L1) (Q):                   0.00   Jarque-Bera (JB):                59.03\n",
              "Prob(Q):                              0.99   Prob(JB):                         0.00\n",
              "Heteroskedasticity (H):               9.73   Skew:                            -0.06\n",
              "Prob(H) (two-sided):                  0.00   Kurtosis:                         7.50\n",
              "===================================================================================\n",
              "\n",
              "Warnings:\n",
              "[1] Covariance matrix calculated using the outer product of gradients (complex-step).\n",
              "[2] Covariance matrix is singular or near-singular, with condition number 1.55e+33. Standard errors may be unstable.\n",
              "\"\"\""
            ]
          },
          "metadata": {
            "tags": []
          },
          "execution_count": 28
        }
      ]
    },
    {
      "cell_type": "code",
      "metadata": {
        "id": "kSICpJNcJKgj"
      },
      "source": [
        "from statsmodels.tsa.arima_model import ARIMA"
      ],
      "execution_count": 29,
      "outputs": []
    },
    {
      "cell_type": "code",
      "metadata": {
        "colab": {
          "base_uri": "https://localhost:8080/"
        },
        "id": "uriNLyUyJObJ",
        "outputId": "29537c2f-b041-4679-a27f-2ae5f5a926cc"
      },
      "source": [
        "train=daily_data.iloc[:45]\n",
        "test=daily_data.iloc[45:]\n",
        "print(train.shape,test.shape)"
      ],
      "execution_count": 44,
      "outputs": [
        {
          "output_type": "stream",
          "text": [
            "(45, 2) (26, 2)\n"
          ],
          "name": "stdout"
        }
      ]
    },
    {
      "cell_type": "code",
      "metadata": {
        "colab": {
          "base_uri": "https://localhost:8080/",
          "height": 235
        },
        "id": "nZV7LR9mKt3m",
        "outputId": "369b9676-b968-4b7c-b0e0-60e086485b68"
      },
      "source": [
        "daily_data.head()\n"
      ],
      "execution_count": 45,
      "outputs": [
        {
          "output_type": "execute_result",
          "data": {
            "text/html": [
              "<div>\n",
              "<style scoped>\n",
              "    .dataframe tbody tr th:only-of-type {\n",
              "        vertical-align: middle;\n",
              "    }\n",
              "\n",
              "    .dataframe tbody tr th {\n",
              "        vertical-align: top;\n",
              "    }\n",
              "\n",
              "    .dataframe thead th {\n",
              "        text-align: right;\n",
              "    }\n",
              "</style>\n",
              "<table border=\"1\" class=\"dataframe\">\n",
              "  <thead>\n",
              "    <tr style=\"text-align: right;\">\n",
              "      <th></th>\n",
              "      <th>power</th>\n",
              "      <th>power First Difference</th>\n",
              "    </tr>\n",
              "    <tr>\n",
              "      <th>occurtime</th>\n",
              "      <th></th>\n",
              "      <th></th>\n",
              "    </tr>\n",
              "  </thead>\n",
              "  <tbody>\n",
              "    <tr>\n",
              "      <th>2020-12-10</th>\n",
              "      <td>21980.39</td>\n",
              "      <td>NaN</td>\n",
              "    </tr>\n",
              "    <tr>\n",
              "      <th>2020-12-11</th>\n",
              "      <td>16564.25</td>\n",
              "      <td>-5416.14</td>\n",
              "    </tr>\n",
              "    <tr>\n",
              "      <th>2020-12-12</th>\n",
              "      <td>20359.33</td>\n",
              "      <td>3795.08</td>\n",
              "    </tr>\n",
              "    <tr>\n",
              "      <th>2020-12-13</th>\n",
              "      <td>21630.15</td>\n",
              "      <td>1270.82</td>\n",
              "    </tr>\n",
              "    <tr>\n",
              "      <th>2020-12-14</th>\n",
              "      <td>22984.32</td>\n",
              "      <td>1354.17</td>\n",
              "    </tr>\n",
              "  </tbody>\n",
              "</table>\n",
              "</div>"
            ],
            "text/plain": [
              "               power  power First Difference\n",
              "occurtime                                   \n",
              "2020-12-10  21980.39                     NaN\n",
              "2020-12-11  16564.25                -5416.14\n",
              "2020-12-12  20359.33                 3795.08\n",
              "2020-12-13  21630.15                 1270.82\n",
              "2020-12-14  22984.32                 1354.17"
            ]
          },
          "metadata": {
            "tags": []
          },
          "execution_count": 45
        }
      ]
    },
    {
      "cell_type": "code",
      "metadata": {
        "id": "-gZyjqkoKxDQ"
      },
      "source": [
        "daily_data=daily_data.iloc[1:]"
      ],
      "execution_count": 46,
      "outputs": []
    },
    {
      "cell_type": "code",
      "metadata": {
        "colab": {
          "base_uri": "https://localhost:8080/",
          "height": 235
        },
        "id": "n7jGanQPK3YF",
        "outputId": "7e391eb4-3072-4c2b-b9bb-7a7afa216166"
      },
      "source": [
        "daily_data.head()\n"
      ],
      "execution_count": 47,
      "outputs": [
        {
          "output_type": "execute_result",
          "data": {
            "text/html": [
              "<div>\n",
              "<style scoped>\n",
              "    .dataframe tbody tr th:only-of-type {\n",
              "        vertical-align: middle;\n",
              "    }\n",
              "\n",
              "    .dataframe tbody tr th {\n",
              "        vertical-align: top;\n",
              "    }\n",
              "\n",
              "    .dataframe thead th {\n",
              "        text-align: right;\n",
              "    }\n",
              "</style>\n",
              "<table border=\"1\" class=\"dataframe\">\n",
              "  <thead>\n",
              "    <tr style=\"text-align: right;\">\n",
              "      <th></th>\n",
              "      <th>power</th>\n",
              "      <th>power First Difference</th>\n",
              "    </tr>\n",
              "    <tr>\n",
              "      <th>occurtime</th>\n",
              "      <th></th>\n",
              "      <th></th>\n",
              "    </tr>\n",
              "  </thead>\n",
              "  <tbody>\n",
              "    <tr>\n",
              "      <th>2020-12-11</th>\n",
              "      <td>16564.25</td>\n",
              "      <td>-5416.14</td>\n",
              "    </tr>\n",
              "    <tr>\n",
              "      <th>2020-12-12</th>\n",
              "      <td>20359.33</td>\n",
              "      <td>3795.08</td>\n",
              "    </tr>\n",
              "    <tr>\n",
              "      <th>2020-12-13</th>\n",
              "      <td>21630.15</td>\n",
              "      <td>1270.82</td>\n",
              "    </tr>\n",
              "    <tr>\n",
              "      <th>2020-12-14</th>\n",
              "      <td>22984.32</td>\n",
              "      <td>1354.17</td>\n",
              "    </tr>\n",
              "    <tr>\n",
              "      <th>2020-12-15</th>\n",
              "      <td>21369.12</td>\n",
              "      <td>-1615.20</td>\n",
              "    </tr>\n",
              "  </tbody>\n",
              "</table>\n",
              "</div>"
            ],
            "text/plain": [
              "               power  power First Difference\n",
              "occurtime                                   \n",
              "2020-12-11  16564.25                -5416.14\n",
              "2020-12-12  20359.33                 3795.08\n",
              "2020-12-13  21630.15                 1270.82\n",
              "2020-12-14  22984.32                 1354.17\n",
              "2020-12-15  21369.12                -1615.20"
            ]
          },
          "metadata": {
            "tags": []
          },
          "execution_count": 47
        }
      ]
    },
    {
      "cell_type": "code",
      "metadata": {
        "colab": {
          "base_uri": "https://localhost:8080/"
        },
        "id": "qh1PjkcOLHdr",
        "outputId": "5b7d77f2-997e-4827-e2da-c23861091cc5"
      },
      "source": [
        "train=daily_data.iloc[:45]\n",
        "test=daily_data.iloc[45:]\n",
        "print(train.shape,test.shape)"
      ],
      "execution_count": 50,
      "outputs": [
        {
          "output_type": "stream",
          "text": [
            "(45, 2) (25, 2)\n"
          ],
          "name": "stdout"
        }
      ]
    },
    {
      "cell_type": "code",
      "metadata": {
        "colab": {
          "base_uri": "https://localhost:8080/",
          "height": 519
        },
        "id": "Q-qn6lqeJVZS",
        "outputId": "7638e3f3-1390-4724-bf63-d86ba7283f02"
      },
      "source": [
        "model=ARIMA(train['power First Difference'].dropna(),order=(3,0,3))\n",
        "model=model.fit()\n",
        "model.summary()"
      ],
      "execution_count": 51,
      "outputs": [
        {
          "output_type": "execute_result",
          "data": {
            "text/html": [
              "<table class=\"simpletable\">\n",
              "<caption>ARMA Model Results</caption>\n",
              "<tr>\n",
              "  <th>Dep. Variable:</th> <td>power First Difference</td> <th>  No. Observations:  </th>    <td>45</td>   \n",
              "</tr>\n",
              "<tr>\n",
              "  <th>Model:</th>               <td>ARMA(3, 3)</td>       <th>  Log Likelihood     </th> <td>-463.012</td>\n",
              "</tr>\n",
              "<tr>\n",
              "  <th>Method:</th>                <td>css-mle</td>        <th>  S.D. of innovations</th> <td>6464.355</td>\n",
              "</tr>\n",
              "<tr>\n",
              "  <th>Date:</th>             <td>Sat, 27 Mar 2021</td>    <th>  AIC                </th>  <td>942.025</td>\n",
              "</tr>\n",
              "<tr>\n",
              "  <th>Time:</th>                 <td>19:32:39</td>        <th>  BIC                </th>  <td>956.478</td>\n",
              "</tr>\n",
              "<tr>\n",
              "  <th>Sample:</th>              <td>12-11-2020</td>       <th>  HQIC               </th>  <td>947.413</td>\n",
              "</tr>\n",
              "<tr>\n",
              "  <th></th>                    <td>- 01-24-2021</td>      <th>                     </th>     <td> </td>   \n",
              "</tr>\n",
              "</table>\n",
              "<table class=\"simpletable\">\n",
              "<tr>\n",
              "                <td></td>                  <th>coef</th>     <th>std err</th>      <th>z</th>      <th>P>|z|</th>  <th>[0.025</th>    <th>0.975]</th>  \n",
              "</tr>\n",
              "<tr>\n",
              "  <th>const</th>                        <td> -139.5188</td> <td>  104.267</td> <td>   -1.338</td> <td> 0.181</td> <td> -343.878</td> <td>   64.840</td>\n",
              "</tr>\n",
              "<tr>\n",
              "  <th>ar.L1.power First Difference</th> <td>   -1.3051</td> <td>    0.154</td> <td>   -8.487</td> <td> 0.000</td> <td>   -1.606</td> <td>   -1.004</td>\n",
              "</tr>\n",
              "<tr>\n",
              "  <th>ar.L2.power First Difference</th> <td>   -0.4950</td> <td>    0.243</td> <td>   -2.033</td> <td> 0.042</td> <td>   -0.972</td> <td>   -0.018</td>\n",
              "</tr>\n",
              "<tr>\n",
              "  <th>ar.L3.power First Difference</th> <td>    0.1839</td> <td>    0.171</td> <td>    1.073</td> <td> 0.283</td> <td>   -0.152</td> <td>    0.520</td>\n",
              "</tr>\n",
              "<tr>\n",
              "  <th>ma.L1.power First Difference</th> <td>    0.8670</td> <td>    0.191</td> <td>    4.545</td> <td> 0.000</td> <td>    0.493</td> <td>    1.241</td>\n",
              "</tr>\n",
              "<tr>\n",
              "  <th>ma.L2.power First Difference</th> <td>   -0.8674</td> <td>    0.181</td> <td>   -4.803</td> <td> 0.000</td> <td>   -1.221</td> <td>   -0.513</td>\n",
              "</tr>\n",
              "<tr>\n",
              "  <th>ma.L3.power First Difference</th> <td>   -0.9996</td> <td>    0.197</td> <td>   -5.061</td> <td> 0.000</td> <td>   -1.387</td> <td>   -0.612</td>\n",
              "</tr>\n",
              "</table>\n",
              "<table class=\"simpletable\">\n",
              "<caption>Roots</caption>\n",
              "<tr>\n",
              "    <td></td>   <th>            Real</th>  <th>         Imaginary</th> <th>         Modulus</th>  <th>        Frequency</th>\n",
              "</tr>\n",
              "<tr>\n",
              "  <th>AR.1</th> <td>          -0.9169</td> <td>          -0.6008j</td> <td>           1.0962</td> <td>          -0.4077</td>\n",
              "</tr>\n",
              "<tr>\n",
              "  <th>AR.2</th> <td>          -0.9169</td> <td>          +0.6008j</td> <td>           1.0962</td> <td>           0.4077</td>\n",
              "</tr>\n",
              "<tr>\n",
              "  <th>AR.3</th> <td>           4.5250</td> <td>          -0.0000j</td> <td>           4.5250</td> <td>          -0.0000</td>\n",
              "</tr>\n",
              "<tr>\n",
              "  <th>MA.1</th> <td>           1.0000</td> <td>          -0.0000j</td> <td>           1.0000</td> <td>          -0.0000</td>\n",
              "</tr>\n",
              "<tr>\n",
              "  <th>MA.2</th> <td>          -0.9339</td> <td>          -0.3582j</td> <td>           1.0002</td> <td>          -0.4417</td>\n",
              "</tr>\n",
              "<tr>\n",
              "  <th>MA.3</th> <td>          -0.9339</td> <td>          +0.3582j</td> <td>           1.0002</td> <td>           0.4417</td>\n",
              "</tr>\n",
              "</table>"
            ],
            "text/plain": [
              "<class 'statsmodels.iolib.summary.Summary'>\n",
              "\"\"\"\n",
              "                                ARMA Model Results                                \n",
              "==================================================================================\n",
              "Dep. Variable:     power First Difference   No. Observations:                   45\n",
              "Model:                         ARMA(3, 3)   Log Likelihood                -463.012\n",
              "Method:                           css-mle   S.D. of innovations           6464.355\n",
              "Date:                    Sat, 27 Mar 2021   AIC                            942.025\n",
              "Time:                            19:32:39   BIC                            956.478\n",
              "Sample:                        12-11-2020   HQIC                           947.413\n",
              "                             - 01-24-2021                                         \n",
              "================================================================================================\n",
              "                                   coef    std err          z      P>|z|      [0.025      0.975]\n",
              "------------------------------------------------------------------------------------------------\n",
              "const                         -139.5188    104.267     -1.338      0.181    -343.878      64.840\n",
              "ar.L1.power First Difference    -1.3051      0.154     -8.487      0.000      -1.606      -1.004\n",
              "ar.L2.power First Difference    -0.4950      0.243     -2.033      0.042      -0.972      -0.018\n",
              "ar.L3.power First Difference     0.1839      0.171      1.073      0.283      -0.152       0.520\n",
              "ma.L1.power First Difference     0.8670      0.191      4.545      0.000       0.493       1.241\n",
              "ma.L2.power First Difference    -0.8674      0.181     -4.803      0.000      -1.221      -0.513\n",
              "ma.L3.power First Difference    -0.9996      0.197     -5.061      0.000      -1.387      -0.612\n",
              "                                    Roots                                    \n",
              "=============================================================================\n",
              "                  Real          Imaginary           Modulus         Frequency\n",
              "-----------------------------------------------------------------------------\n",
              "AR.1           -0.9169           -0.6008j            1.0962           -0.4077\n",
              "AR.2           -0.9169           +0.6008j            1.0962            0.4077\n",
              "AR.3            4.5250           -0.0000j            4.5250           -0.0000\n",
              "MA.1            1.0000           -0.0000j            1.0000           -0.0000\n",
              "MA.2           -0.9339           -0.3582j            1.0002           -0.4417\n",
              "MA.3           -0.9339           +0.3582j            1.0002            0.4417\n",
              "-----------------------------------------------------------------------------\n",
              "\"\"\""
            ]
          },
          "metadata": {
            "tags": []
          },
          "execution_count": 51
        }
      ]
    },
    {
      "cell_type": "code",
      "metadata": {
        "colab": {
          "base_uri": "https://localhost:8080/"
        },
        "id": "O6VCdqovJulb",
        "outputId": "b15bf7a2-86ad-4ebe-b99a-8e605559e8fe"
      },
      "source": [
        "start=len(train)\n",
        "end=len(train)+len(test)-1\n",
        "pred=model.predict(start=start,end=end,typ='levels')\n",
        "print(pred)"
      ],
      "execution_count": 52,
      "outputs": [
        {
          "output_type": "stream",
          "text": [
            "2021-01-25    19010.984346\n",
            "2021-01-26    -3425.214581\n",
            "2021-01-27    -3556.742039\n",
            "2021-01-28     9468.571598\n",
            "2021-01-29   -11591.511098\n",
            "2021-01-30     9421.802205\n",
            "2021-01-31    -5182.123868\n",
            "2021-02-01     -397.401281\n",
            "2021-02-02     4451.456312\n",
            "2021-02-03    -6930.784762\n",
            "2021-02-04     6403.657719\n",
            "2021-02-05    -4472.918531\n",
            "2021-02-06     1028.119798\n",
            "2021-02-07     1684.945684\n",
            "2021-02-08    -3895.481777\n",
            "2021-02-09     4073.926034\n",
            "2021-02-10    -3443.673066\n",
            "2021-02-11     1396.283827\n",
            "2021-02-12      266.548232\n",
            "2021-02-13    -2037.324833\n",
            "2021-02-14     2418.697923\n",
            "2021-02-15    -2464.102027\n",
            "2021-02-16     1278.920238\n",
            "2021-02-17     -369.567502\n",
            "2021-02-18     -968.905738\n",
            "Freq: D, dtype: float64\n"
          ],
          "name": "stdout"
        }
      ]
    },
    {
      "cell_type": "code",
      "metadata": {
        "colab": {
          "base_uri": "https://localhost:8080/",
          "height": 320
        },
        "id": "K_7L9dt3LQL-",
        "outputId": "974a66d1-6e47-45a9-a704-8bd6ab4fd68f"
      },
      "source": [
        "pred.plot(legend=True)\n",
        "test['power First Difference'].plot(legend=True)"
      ],
      "execution_count": 55,
      "outputs": [
        {
          "output_type": "execute_result",
          "data": {
            "text/plain": [
              "<matplotlib.axes._subplots.AxesSubplot at 0x7f8754d14450>"
            ]
          },
          "metadata": {
            "tags": []
          },
          "execution_count": 55
        },
        {
          "output_type": "display_data",
          "data": {
            "image/png": "[encoded data removed]",
            "text/plain": [
              "<Figure size 432x288 with 1 Axes>"
            ]
          },
          "metadata": {
            "tags": [],
            "needs_background": "light"
          }
        }
      ]
    },
    {
      "cell_type": "code",
      "metadata": {
        "colab": {
          "base_uri": "https://localhost:8080/"
        },
        "id": "ADEfctZvLisY",
        "outputId": "b8df04e2-48cf-4a1c-e2ac-29d0ab92477b"
      },
      "source": [
        "test['power First Difference'].mean()"
      ],
      "execution_count": 57,
      "outputs": [
        {
          "output_type": "execute_result",
          "data": {
            "text/plain": [
              "232.57879999999975"
            ]
          },
          "metadata": {
            "tags": []
          },
          "execution_count": 57
        }
      ]
    },
    {
      "cell_type": "code",
      "metadata": {
        "colab": {
          "base_uri": "https://localhost:8080/"
        },
        "id": "D1VN3rmkLo81",
        "outputId": "e1a1cb59-bf02-4e6f-8758-1b9ff4db386c"
      },
      "source": [
        "from sklearn.metrics import mean_squared_error\n",
        "from math import sqrt\n",
        "rmse=sqrt(mean_squared_error(pred,test['power First Difference']))\n",
        "print(rmse)"
      ],
      "execution_count": 58,
      "outputs": [
        {
          "output_type": "stream",
          "text": [
            "6686.554364310724\n"
          ],
          "name": "stdout"
        }
      ]
    },
    {
      "cell_type": "code",
      "metadata": {
        "colab": {
          "base_uri": "https://localhost:8080/",
          "height": 235
        },
        "id": "4AJq_dKqLyrw",
        "outputId": "feba48b0-c6d1-4b01-ad1f-1a861de2d2ee"
      },
      "source": [
        "#when i use daily_data['power first difference] it causes an error,, so am i supposed to use 'power' or 'power first difference'!\n",
        "model2=ARIMA(daily_data['power'],order=(3,0,3))\n",
        "model2=model2.fit()\n",
        "daily_data.tail()"
      ],
      "execution_count": 63,
      "outputs": [
        {
          "output_type": "execute_result",
          "data": {
            "text/html": [
              "<div>\n",
              "<style scoped>\n",
              "    .dataframe tbody tr th:only-of-type {\n",
              "        vertical-align: middle;\n",
              "    }\n",
              "\n",
              "    .dataframe tbody tr th {\n",
              "        vertical-align: top;\n",
              "    }\n",
              "\n",
              "    .dataframe thead th {\n",
              "        text-align: right;\n",
              "    }\n",
              "</style>\n",
              "<table border=\"1\" class=\"dataframe\">\n",
              "  <thead>\n",
              "    <tr style=\"text-align: right;\">\n",
              "      <th></th>\n",
              "      <th>power</th>\n",
              "      <th>power First Difference</th>\n",
              "    </tr>\n",
              "    <tr>\n",
              "      <th>occurtime</th>\n",
              "      <th></th>\n",
              "      <th></th>\n",
              "    </tr>\n",
              "  </thead>\n",
              "  <tbody>\n",
              "    <tr>\n",
              "      <th>2021-02-14</th>\n",
              "      <td>21124.72</td>\n",
              "      <td>103.12</td>\n",
              "    </tr>\n",
              "    <tr>\n",
              "      <th>2021-02-15</th>\n",
              "      <td>20928.51</td>\n",
              "      <td>-196.21</td>\n",
              "    </tr>\n",
              "    <tr>\n",
              "      <th>2021-02-16</th>\n",
              "      <td>19299.25</td>\n",
              "      <td>-1629.26</td>\n",
              "    </tr>\n",
              "    <tr>\n",
              "      <th>2021-02-17</th>\n",
              "      <td>17978.39</td>\n",
              "      <td>-1320.86</td>\n",
              "    </tr>\n",
              "    <tr>\n",
              "      <th>2021-02-18</th>\n",
              "      <td>6791.59</td>\n",
              "      <td>-11186.80</td>\n",
              "    </tr>\n",
              "  </tbody>\n",
              "</table>\n",
              "</div>"
            ],
            "text/plain": [
              "               power  power First Difference\n",
              "occurtime                                   \n",
              "2021-02-14  21124.72                  103.12\n",
              "2021-02-15  20928.51                 -196.21\n",
              "2021-02-16  19299.25                -1629.26\n",
              "2021-02-17  17978.39                -1320.86\n",
              "2021-02-18   6791.59               -11186.80"
            ]
          },
          "metadata": {
            "tags": []
          },
          "execution_count": 63
        }
      ]
    },
    {
      "cell_type": "code",
      "metadata": {
        "colab": {
          "base_uri": "https://localhost:8080/"
        },
        "id": "CxjEsEMoNh3u",
        "outputId": "47c6d71b-66c3-4baf-e338-0acfcea6bba9"
      },
      "source": [
        "index_future_dates=pd.date_range(start='2021-02-18',end='2021-02-28')\n",
        "pred=model2.predict(start=len(daily_data),end=len(daily_data)+10,typ='levels').rename('arima preds')\n",
        "pred.index=index_future_dates\n",
        "print(pred)"
      ],
      "execution_count": 66,
      "outputs": [
        {
          "output_type": "stream",
          "text": [
            "2021-02-18    19058.900671\n",
            "2021-02-19    22747.421367\n",
            "2021-02-20    15188.719604\n",
            "2021-02-21    14065.399328\n",
            "2021-02-22    13830.100708\n",
            "2021-02-23    16092.177602\n",
            "2021-02-24    18857.715564\n",
            "2021-02-25    21224.313151\n",
            "2021-02-26    22307.790635\n",
            "2021-02-27    22004.034007\n",
            "2021-02-28    20703.911502\n",
            "Freq: D, Name: arima preds, dtype: float64\n"
          ],
          "name": "stdout"
        }
      ]
    },
    {
      "cell_type": "code",
      "metadata": {
        "colab": {
          "base_uri": "https://localhost:8080/",
          "height": 360
        },
        "id": "HL8uHu4INpSW",
        "outputId": "7ab780ec-c87a-434a-c0f6-e29cc6a42f0d"
      },
      "source": [
        "pred.plot(figsize=(12,5),legend=True)"
      ],
      "execution_count": 65,
      "outputs": [
        {
          "output_type": "execute_result",
          "data": {
            "text/plain": [
              "<matplotlib.axes._subplots.AxesSubplot at 0x7f8754cdc250>"
            ]
          },
          "metadata": {
            "tags": []
          },
          "execution_count": 65
        },
        {
          "output_type": "display_data",
          "data": {
            "image/png": "[encoded data removed]",
            "text/plain": [
              "<Figure size 864x360 with 1 Axes>"
            ]
          },
          "metadata": {
            "tags": [],
            "needs_background": "light"
          }
        }
      ]
    }
  ]
}