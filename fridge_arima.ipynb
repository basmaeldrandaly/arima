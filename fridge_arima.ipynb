{
  "nbformat": 4,
  "nbformat_minor": 0,
  "metadata": {
    "colab": {
      "name": "fridge_arima.ipynb",
      "provenance": [],
      "collapsed_sections": []
    },
    "kernelspec": {
      "name": "python3",
      "display_name": "Python 3"
    },
    "language_info": {
      "name": "python"
    }
  },
  "cells": [
    {
      "cell_type": "code",
      "metadata": {
        "id": "9LF9xTUxJy8R",
        "colab": {
          "base_uri": "https://localhost:8080/"
        },
        "outputId": "f770efb4-e4f7-47d4-c526-4f6a77da5bb9"
      },
      "source": [
        "!pip install pmdarima\n"
      ],
      "execution_count": 1,
      "outputs": [
        {
          "output_type": "stream",
          "text": [
            "Collecting pmdarima\n",
            "\u001b[?25l  Downloading https://files.pythonhosted.org/packages/e4/a8/bdf15174e35d072e145d16388b1d3bc7605b752610170cb022a290411427/pmdarima-1.8.0-cp37-cp37m-manylinux1_x86_64.whl (1.5MB)\n",
            "\u001b[K     |████████████████████████████████| 1.5MB 5.5MB/s \n",
            "\u001b[?25hRequirement already satisfied: setuptools!=50.0.0,>=38.6.0 in /usr/local/lib/python3.7/dist-packages (from pmdarima) (54.2.0)\n",
            "Requirement already satisfied: numpy>=1.17.3 in /usr/local/lib/python3.7/dist-packages (from pmdarima) (1.19.5)\n",
            "Requirement already satisfied: scikit-learn>=0.22 in /usr/local/lib/python3.7/dist-packages (from pmdarima) (0.22.2.post1)\n",
            "Requirement already satisfied: pandas>=0.19 in /usr/local/lib/python3.7/dist-packages (from pmdarima) (1.1.5)\n",
            "Requirement already satisfied: joblib>=0.11 in /usr/local/lib/python3.7/dist-packages (from pmdarima) (1.0.1)\n",
            "Requirement already satisfied: urllib3 in /usr/local/lib/python3.7/dist-packages (from pmdarima) (1.24.3)\n",
            "Collecting statsmodels!=0.12.0,>=0.11\n",
            "\u001b[?25l  Downloading https://files.pythonhosted.org/packages/da/69/8eef30a6237c54f3c0b524140e2975f4b1eea3489b45eb3339574fc8acee/statsmodels-0.12.2-cp37-cp37m-manylinux1_x86_64.whl (9.5MB)\n",
            "\u001b[K     |████████████████████████████████| 9.5MB 18.2MB/s \n",
            "\u001b[?25hCollecting Cython<0.29.18,>=0.29\n",
            "\u001b[?25l  Downloading https://files.pythonhosted.org/packages/dc/6c/198da24bf0a1d5b5ee6119e891c5300bb1b0b8904832fac9ff62d4e381c9/Cython-0.29.17-cp37-cp37m-manylinux1_x86_64.whl (2.1MB)\n",
            "\u001b[K     |████████████████████████████████| 2.1MB 45.8MB/s \n",
            "\u001b[?25hRequirement already satisfied: scipy>=1.3.2 in /usr/local/lib/python3.7/dist-packages (from pmdarima) (1.4.1)\n",
            "Requirement already satisfied: pytz>=2017.2 in /usr/local/lib/python3.7/dist-packages (from pandas>=0.19->pmdarima) (2018.9)\n",
            "Requirement already satisfied: python-dateutil>=2.7.3 in /usr/local/lib/python3.7/dist-packages (from pandas>=0.19->pmdarima) (2.8.1)\n",
            "Requirement already satisfied: patsy>=0.5 in /usr/local/lib/python3.7/dist-packages (from statsmodels!=0.12.0,>=0.11->pmdarima) (0.5.1)\n",
            "Requirement already satisfied: six>=1.5 in /usr/local/lib/python3.7/dist-packages (from python-dateutil>=2.7.3->pandas>=0.19->pmdarima) (1.15.0)\n",
            "Installing collected packages: statsmodels, Cython, pmdarima\n",
            "  Found existing installation: statsmodels 0.10.2\n",
            "    Uninstalling statsmodels-0.10.2:\n",
            "      Successfully uninstalled statsmodels-0.10.2\n",
            "  Found existing installation: Cython 0.29.22\n",
            "    Uninstalling Cython-0.29.22:\n",
            "      Successfully uninstalled Cython-0.29.22\n",
            "Successfully installed Cython-0.29.17 pmdarima-1.8.0 statsmodels-0.12.2\n"
          ],
          "name": "stdout"
        }
      ]
    },
    {
      "cell_type": "code",
      "metadata": {
        "id": "8Asc_tsAK_8y"
      },
      "source": [
        "import pandas as pd\n",
        "import numpy as np\n",
        "import matplotlib.pyplot as plt\n",
        "from pmdarima import auto_arima\n",
        "\n",
        "%matplotlib inline"
      ],
      "execution_count": 23,
      "outputs": []
    },
    {
      "cell_type": "code",
      "metadata": {
        "id": "xVWBY_sBLLvO"
      },
      "source": [
        "df=pd.read_csv(\"MyFridge.csv\",header=0,infer_datetime_format=True,parse_dates=['occurtime'])\n"
      ],
      "execution_count": 7,
      "outputs": []
    },
    {
      "cell_type": "code",
      "metadata": {
        "colab": {
          "base_uri": "https://localhost:8080/",
          "height": 204
        },
        "id": "ssP5VKBDMIbE",
        "outputId": "fba574cb-cfeb-4359-ca78-5e907b7558cf"
      },
      "source": [
        "df.head()\n"
      ],
      "execution_count": 8,
      "outputs": [
        {
          "output_type": "execute_result",
          "data": {
            "text/html": [
              "<div>\n",
              "<style scoped>\n",
              "    .dataframe tbody tr th:only-of-type {\n",
              "        vertical-align: middle;\n",
              "    }\n",
              "\n",
              "    .dataframe tbody tr th {\n",
              "        vertical-align: top;\n",
              "    }\n",
              "\n",
              "    .dataframe thead th {\n",
              "        text-align: right;\n",
              "    }\n",
              "</style>\n",
              "<table border=\"1\" class=\"dataframe\">\n",
              "  <thead>\n",
              "    <tr style=\"text-align: right;\">\n",
              "      <th></th>\n",
              "      <th>occurtime</th>\n",
              "      <th>power</th>\n",
              "    </tr>\n",
              "  </thead>\n",
              "  <tbody>\n",
              "    <tr>\n",
              "      <th>0</th>\n",
              "      <td>2020-12-10_00:05:00</td>\n",
              "      <td>130.16</td>\n",
              "    </tr>\n",
              "    <tr>\n",
              "      <th>1</th>\n",
              "      <td>2020-12-10_00:10:00</td>\n",
              "      <td>124.64</td>\n",
              "    </tr>\n",
              "    <tr>\n",
              "      <th>2</th>\n",
              "      <td>2020-12-10_00:15:00</td>\n",
              "      <td>121.36</td>\n",
              "    </tr>\n",
              "    <tr>\n",
              "      <th>3</th>\n",
              "      <td>2020-12-10_00:20:00</td>\n",
              "      <td>120.16</td>\n",
              "    </tr>\n",
              "    <tr>\n",
              "      <th>4</th>\n",
              "      <td>2020-12-10_00:25:00</td>\n",
              "      <td>0.00</td>\n",
              "    </tr>\n",
              "  </tbody>\n",
              "</table>\n",
              "</div>"
            ],
            "text/plain": [
              "             occurtime   power\n",
              "0  2020-12-10_00:05:00  130.16\n",
              "1  2020-12-10_00:10:00  124.64\n",
              "2  2020-12-10_00:15:00  121.36\n",
              "3  2020-12-10_00:20:00  120.16\n",
              "4  2020-12-10_00:25:00    0.00"
            ]
          },
          "metadata": {
            "tags": []
          },
          "execution_count": 8
        }
      ]
    },
    {
      "cell_type": "code",
      "metadata": {
        "id": "lWPOFNgRMTZz"
      },
      "source": [
        "df['occurtime'] = pd.to_datetime(df['occurtime'],format=\"%Y-%m-%d_%H:%M:%S\")\n"
      ],
      "execution_count": 10,
      "outputs": []
    },
    {
      "cell_type": "code",
      "metadata": {
        "id": "5-OrjFhwM0Jg"
      },
      "source": [
        "df.to_csv('fridge.csv',index=False,date_format=\"%Y-%m-%d %H:%M:%S\")\n"
      ],
      "execution_count": 11,
      "outputs": []
    },
    {
      "cell_type": "code",
      "metadata": {
        "id": "cQc9IKSbM8FC"
      },
      "source": [
        "df=pd.read_csv(\"fridge.csv\",header=0,infer_datetime_format=True,parse_dates=['occurtime'],index_col=['occurtime'])\n"
      ],
      "execution_count": 12,
      "outputs": []
    },
    {
      "cell_type": "code",
      "metadata": {
        "id": "jgePf0kQNHdb"
      },
      "source": [
        "hourly_data=df.resample('H').sum()\n"
      ],
      "execution_count": 13,
      "outputs": []
    },
    {
      "cell_type": "code",
      "metadata": {
        "colab": {
          "base_uri": "https://localhost:8080/",
          "height": 235
        },
        "id": "pPnKcSiINQux",
        "outputId": "c1f691a2-21c9-42aa-b313-f025ae176e14"
      },
      "source": [
        "hourly_data.head()"
      ],
      "execution_count": 14,
      "outputs": [
        {
          "output_type": "execute_result",
          "data": {
            "text/html": [
              "<div>\n",
              "<style scoped>\n",
              "    .dataframe tbody tr th:only-of-type {\n",
              "        vertical-align: middle;\n",
              "    }\n",
              "\n",
              "    .dataframe tbody tr th {\n",
              "        vertical-align: top;\n",
              "    }\n",
              "\n",
              "    .dataframe thead th {\n",
              "        text-align: right;\n",
              "    }\n",
              "</style>\n",
              "<table border=\"1\" class=\"dataframe\">\n",
              "  <thead>\n",
              "    <tr style=\"text-align: right;\">\n",
              "      <th></th>\n",
              "      <th>power</th>\n",
              "    </tr>\n",
              "    <tr>\n",
              "      <th>occurtime</th>\n",
              "      <th></th>\n",
              "    </tr>\n",
              "  </thead>\n",
              "  <tbody>\n",
              "    <tr>\n",
              "      <th>2020-12-10 00:00:00</th>\n",
              "      <td>882.56</td>\n",
              "    </tr>\n",
              "    <tr>\n",
              "      <th>2020-12-10 01:00:00</th>\n",
              "      <td>873.44</td>\n",
              "    </tr>\n",
              "    <tr>\n",
              "      <th>2020-12-10 02:00:00</th>\n",
              "      <td>897.76</td>\n",
              "    </tr>\n",
              "    <tr>\n",
              "      <th>2020-12-10 03:00:00</th>\n",
              "      <td>1310.64</td>\n",
              "    </tr>\n",
              "    <tr>\n",
              "      <th>2020-12-10 04:00:00</th>\n",
              "      <td>1521.35</td>\n",
              "    </tr>\n",
              "  </tbody>\n",
              "</table>\n",
              "</div>"
            ],
            "text/plain": [
              "                       power\n",
              "occurtime                   \n",
              "2020-12-10 00:00:00   882.56\n",
              "2020-12-10 01:00:00   873.44\n",
              "2020-12-10 02:00:00   897.76\n",
              "2020-12-10 03:00:00  1310.64\n",
              "2020-12-10 04:00:00  1521.35"
            ]
          },
          "metadata": {
            "tags": []
          },
          "execution_count": 14
        }
      ]
    },
    {
      "cell_type": "code",
      "metadata": {
        "colab": {
          "base_uri": "https://localhost:8080/",
          "height": 297
        },
        "id": "YFzxErxtNfLZ",
        "outputId": "eef2d670-071b-4577-c53c-395a9a59cba6"
      },
      "source": [
        "hourly_data.describe()\n"
      ],
      "execution_count": 15,
      "outputs": [
        {
          "output_type": "execute_result",
          "data": {
            "text/html": [
              "<div>\n",
              "<style scoped>\n",
              "    .dataframe tbody tr th:only-of-type {\n",
              "        vertical-align: middle;\n",
              "    }\n",
              "\n",
              "    .dataframe tbody tr th {\n",
              "        vertical-align: top;\n",
              "    }\n",
              "\n",
              "    .dataframe thead th {\n",
              "        text-align: right;\n",
              "    }\n",
              "</style>\n",
              "<table border=\"1\" class=\"dataframe\">\n",
              "  <thead>\n",
              "    <tr style=\"text-align: right;\">\n",
              "      <th></th>\n",
              "      <th>power</th>\n",
              "    </tr>\n",
              "  </thead>\n",
              "  <tbody>\n",
              "    <tr>\n",
              "      <th>count</th>\n",
              "      <td>408.000000</td>\n",
              "    </tr>\n",
              "    <tr>\n",
              "      <th>mean</th>\n",
              "      <td>867.505515</td>\n",
              "    </tr>\n",
              "    <tr>\n",
              "      <th>std</th>\n",
              "      <td>269.873470</td>\n",
              "    </tr>\n",
              "    <tr>\n",
              "      <th>min</th>\n",
              "      <td>0.000000</td>\n",
              "    </tr>\n",
              "    <tr>\n",
              "      <th>25%</th>\n",
              "      <td>729.180000</td>\n",
              "    </tr>\n",
              "    <tr>\n",
              "      <th>50%</th>\n",
              "      <td>859.960000</td>\n",
              "    </tr>\n",
              "    <tr>\n",
              "      <th>75%</th>\n",
              "      <td>993.440000</td>\n",
              "    </tr>\n",
              "    <tr>\n",
              "      <th>max</th>\n",
              "      <td>1837.540000</td>\n",
              "    </tr>\n",
              "  </tbody>\n",
              "</table>\n",
              "</div>"
            ],
            "text/plain": [
              "             power\n",
              "count   408.000000\n",
              "mean    867.505515\n",
              "std     269.873470\n",
              "min       0.000000\n",
              "25%     729.180000\n",
              "50%     859.960000\n",
              "75%     993.440000\n",
              "max    1837.540000"
            ]
          },
          "metadata": {
            "tags": []
          },
          "execution_count": 15
        }
      ]
    },
    {
      "cell_type": "code",
      "metadata": {
        "colab": {
          "base_uri": "https://localhost:8080/"
        },
        "id": "Q2Pe3GvPNn8y",
        "outputId": "6febd1c6-5426-4733-94f5-a88b33234479"
      },
      "source": [
        "hourly_data.info()\n"
      ],
      "execution_count": 16,
      "outputs": [
        {
          "output_type": "stream",
          "text": [
            "<class 'pandas.core.frame.DataFrame'>\n",
            "DatetimeIndex: 408 entries, 2020-12-10 00:00:00 to 2020-12-26 23:00:00\n",
            "Freq: H\n",
            "Data columns (total 1 columns):\n",
            " #   Column  Non-Null Count  Dtype  \n",
            "---  ------  --------------  -----  \n",
            " 0   power   408 non-null    float64\n",
            "dtypes: float64(1)\n",
            "memory usage: 6.4 KB\n"
          ],
          "name": "stdout"
        }
      ]
    },
    {
      "cell_type": "markdown",
      "metadata": {
        "id": "5_8_iSi7N0w5"
      },
      "source": [
        "**visualization**"
      ]
    },
    {
      "cell_type": "code",
      "metadata": {
        "colab": {
          "base_uri": "https://localhost:8080/",
          "height": 320
        },
        "id": "RPYudbSWNtfE",
        "outputId": "635f68d8-331f-4446-80a8-1414ca2cd473"
      },
      "source": [
        "hourly_data.plot()"
      ],
      "execution_count": 17,
      "outputs": [
        {
          "output_type": "execute_result",
          "data": {
            "text/plain": [
              "<matplotlib.axes._subplots.AxesSubplot at 0x7f2db61f2550>"
            ]
          },
          "metadata": {
            "tags": []
          },
          "execution_count": 17
        },
        {
          "output_type": "display_data",
          "data": {
            "image/png": "[encoded data removed]",
            "text/plain": [
              "<Figure size 432x288 with 1 Axes>"
            ]
          },
          "metadata": {
            "tags": [],
            "needs_background": "light"
          }
        }
      ]
    },
    {
      "cell_type": "markdown",
      "metadata": {
        "id": "dc2hg2VJN8tI"
      },
      "source": [
        "**stationarity test**"
      ]
    },
    {
      "cell_type": "code",
      "metadata": {
        "id": "_80SKvbAN6YE"
      },
      "source": [
        "from statsmodels.tsa.stattools import adfuller\n",
        "test_result=adfuller(hourly_data['power'])"
      ],
      "execution_count": 18,
      "outputs": []
    },
    {
      "cell_type": "code",
      "metadata": {
        "id": "s5_-gRhaOMMA"
      },
      "source": [
        "#H1: It is stationary\n",
        "\n",
        "def adfuller_test(consumption):\n",
        "    result=adfuller(consumption)\n",
        "    labels = ['ADF Test Statistic','p-value','#Lags Used','Number of Observations Used']\n",
        "    for value,label in zip(result,labels):\n",
        "        print(label+' : '+str(value) )\n",
        "    if result[1] <= 0.05:\n",
        "        print(\"strong evidence against the null hypothesis(Ho), reject the null hypothesis. Data has no unit root and is stationary\")\n",
        "    else:\n",
        "        print(\"weak evidence against null hypothesis, time series has a unit root, indicating it is non-stationary \")"
      ],
      "execution_count": 19,
      "outputs": []
    },
    {
      "cell_type": "code",
      "metadata": {
        "colab": {
          "base_uri": "https://localhost:8080/"
        },
        "id": "kV_77XDEOWqo",
        "outputId": "0a4692f7-7311-4f49-fed9-7b44421c58e2"
      },
      "source": [
        "adfuller_test(hourly_data['power'])\n"
      ],
      "execution_count": 20,
      "outputs": [
        {
          "output_type": "stream",
          "text": [
            "ADF Test Statistic : -14.039226703093547\n",
            "p-value : 3.326538911040085e-26\n",
            "#Lags Used : 0\n",
            "Number of Observations Used : 407\n",
            "strong evidence against the null hypothesis(Ho), reject the null hypothesis. Data has no unit root and is stationary\n"
          ],
          "name": "stdout"
        }
      ]
    },
    {
      "cell_type": "code",
      "metadata": {
        "id": "1CdAllaSOdW3"
      },
      "source": [
        "import warnings\n",
        "warnings.filterwarnings('ignore')"
      ],
      "execution_count": 21,
      "outputs": []
    },
    {
      "cell_type": "markdown",
      "metadata": {
        "id": "WQTlY8luPS56"
      },
      "source": [
        "**arima**"
      ]
    },
    {
      "cell_type": "code",
      "metadata": {
        "colab": {
          "base_uri": "https://localhost:8080/"
        },
        "id": "MKTb0OY-Oq2i",
        "outputId": "1acdd79a-7ead-4a5c-d00d-76ac53d3614f"
      },
      "source": [
        "stepwise_fit=auto_arima(hourly_data['power'].dropna(),trace=True,supress_warnings=True)\n"
      ],
      "execution_count": 24,
      "outputs": [
        {
          "output_type": "stream",
          "text": [
            "Performing stepwise search to minimize aic\n",
            " ARIMA(2,0,2)(0,0,0)[0] intercept   : AIC=5684.718, Time=1.09 sec\n",
            " ARIMA(0,0,0)(0,0,0)[0] intercept   : AIC=5728.782, Time=0.02 sec\n",
            " ARIMA(1,0,0)(0,0,0)[0] intercept   : AIC=5679.247, Time=0.04 sec\n",
            " ARIMA(0,0,1)(0,0,0)[0] intercept   : AIC=5686.895, Time=0.27 sec\n",
            " ARIMA(0,0,0)(0,0,0)[0]             : AIC=6718.203, Time=0.01 sec\n",
            " ARIMA(2,0,0)(0,0,0)[0] intercept   : AIC=5680.400, Time=0.07 sec\n",
            " ARIMA(1,0,1)(0,0,0)[0] intercept   : AIC=5680.739, Time=0.09 sec\n",
            " ARIMA(2,0,1)(0,0,0)[0] intercept   : AIC=5682.394, Time=0.15 sec\n",
            " ARIMA(1,0,0)(0,0,0)[0]             : AIC=5830.206, Time=0.03 sec\n",
            "\n",
            "Best model:  ARIMA(1,0,0)(0,0,0)[0] intercept\n",
            "Total fit time: 1.797 seconds\n"
          ],
          "name": "stdout"
        }
      ]
    },
    {
      "cell_type": "code",
      "metadata": {
        "colab": {
          "base_uri": "https://localhost:8080/",
          "height": 423
        },
        "id": "RTmvF9xYPnU_",
        "outputId": "d065c19c-d7cf-4c51-eb47-cdd7cd21a64f"
      },
      "source": [
        "stepwise_fit.summary()\n"
      ],
      "execution_count": 25,
      "outputs": [
        {
          "output_type": "execute_result",
          "data": {
            "text/html": [
              "<table class=\"simpletable\">\n",
              "<caption>SARIMAX Results</caption>\n",
              "<tr>\n",
              "  <th>Dep. Variable:</th>           <td>y</td>        <th>  No. Observations:  </th>    <td>408</td>   \n",
              "</tr>\n",
              "<tr>\n",
              "  <th>Model:</th>           <td>SARIMAX(1, 0, 0)</td> <th>  Log Likelihood     </th> <td>-2836.623</td>\n",
              "</tr>\n",
              "<tr>\n",
              "  <th>Date:</th>            <td>Fri, 16 Apr 2021</td> <th>  AIC                </th> <td>5679.247</td> \n",
              "</tr>\n",
              "<tr>\n",
              "  <th>Time:</th>                <td>19:53:23</td>     <th>  BIC                </th> <td>5691.280</td> \n",
              "</tr>\n",
              "<tr>\n",
              "  <th>Sample:</th>                  <td>0</td>        <th>  HQIC               </th> <td>5684.008</td> \n",
              "</tr>\n",
              "<tr>\n",
              "  <th></th>                      <td> - 408</td>      <th>                     </th>     <td> </td>    \n",
              "</tr>\n",
              "<tr>\n",
              "  <th>Covariance Type:</th>        <td>opg</td>       <th>                     </th>     <td> </td>    \n",
              "</tr>\n",
              "</table>\n",
              "<table class=\"simpletable\">\n",
              "<tr>\n",
              "      <td></td>         <th>coef</th>     <th>std err</th>      <th>z</th>      <th>P>|z|</th>  <th>[0.025</th>    <th>0.975]</th>  \n",
              "</tr>\n",
              "<tr>\n",
              "  <th>intercept</th> <td>  568.3117</td> <td>   38.543</td> <td>   14.745</td> <td> 0.000</td> <td>  492.769</td> <td>  643.855</td>\n",
              "</tr>\n",
              "<tr>\n",
              "  <th>ar.L1</th>     <td>    0.3450</td> <td>    0.040</td> <td>    8.609</td> <td> 0.000</td> <td>    0.266</td> <td>    0.424</td>\n",
              "</tr>\n",
              "<tr>\n",
              "  <th>sigma2</th>    <td> 6.417e+04</td> <td> 3837.720</td> <td>   16.721</td> <td> 0.000</td> <td> 5.66e+04</td> <td> 7.17e+04</td>\n",
              "</tr>\n",
              "</table>\n",
              "<table class=\"simpletable\">\n",
              "<tr>\n",
              "  <th>Ljung-Box (L1) (Q):</th>     <td>0.10</td> <th>  Jarque-Bera (JB):  </th> <td>66.02</td>\n",
              "</tr>\n",
              "<tr>\n",
              "  <th>Prob(Q):</th>                <td>0.75</td> <th>  Prob(JB):          </th> <td>0.00</td> \n",
              "</tr>\n",
              "<tr>\n",
              "  <th>Heteroskedasticity (H):</th> <td>0.71</td> <th>  Skew:              </th> <td>0.71</td> \n",
              "</tr>\n",
              "<tr>\n",
              "  <th>Prob(H) (two-sided):</th>    <td>0.05</td> <th>  Kurtosis:          </th> <td>4.36</td> \n",
              "</tr>\n",
              "</table><br/><br/>Warnings:<br/>[1] Covariance matrix calculated using the outer product of gradients (complex-step)."
            ],
            "text/plain": [
              "<class 'statsmodels.iolib.summary.Summary'>\n",
              "\"\"\"\n",
              "                               SARIMAX Results                                \n",
              "==============================================================================\n",
              "Dep. Variable:                      y   No. Observations:                  408\n",
              "Model:               SARIMAX(1, 0, 0)   Log Likelihood               -2836.623\n",
              "Date:                Fri, 16 Apr 2021   AIC                           5679.247\n",
              "Time:                        19:53:23   BIC                           5691.280\n",
              "Sample:                             0   HQIC                          5684.008\n",
              "                                - 408                                         \n",
              "Covariance Type:                  opg                                         \n",
              "==============================================================================\n",
              "                 coef    std err          z      P>|z|      [0.025      0.975]\n",
              "------------------------------------------------------------------------------\n",
              "intercept    568.3117     38.543     14.745      0.000     492.769     643.855\n",
              "ar.L1          0.3450      0.040      8.609      0.000       0.266       0.424\n",
              "sigma2      6.417e+04   3837.720     16.721      0.000    5.66e+04    7.17e+04\n",
              "===================================================================================\n",
              "Ljung-Box (L1) (Q):                   0.10   Jarque-Bera (JB):                66.02\n",
              "Prob(Q):                              0.75   Prob(JB):                         0.00\n",
              "Heteroskedasticity (H):               0.71   Skew:                             0.71\n",
              "Prob(H) (two-sided):                  0.05   Kurtosis:                         4.36\n",
              "===================================================================================\n",
              "\n",
              "Warnings:\n",
              "[1] Covariance matrix calculated using the outer product of gradients (complex-step).\n",
              "\"\"\""
            ]
          },
          "metadata": {
            "tags": []
          },
          "execution_count": 25
        }
      ]
    },
    {
      "cell_type": "code",
      "metadata": {
        "id": "2Scy1HBJPtq-"
      },
      "source": [
        "from statsmodels.tsa.arima_model import ARIMA\n"
      ],
      "execution_count": 26,
      "outputs": []
    },
    {
      "cell_type": "code",
      "metadata": {
        "colab": {
          "base_uri": "https://localhost:8080/"
        },
        "id": "uqRmf_dgQ90d",
        "outputId": "539ee0e8-57c4-4e9a-e387-8a081403472d"
      },
      "source": [
        "408*.7\n"
      ],
      "execution_count": 28,
      "outputs": [
        {
          "output_type": "execute_result",
          "data": {
            "text/plain": [
              "285.59999999999997"
            ]
          },
          "metadata": {
            "tags": []
          },
          "execution_count": 28
        }
      ]
    },
    {
      "cell_type": "code",
      "metadata": {
        "colab": {
          "base_uri": "https://localhost:8080/"
        },
        "id": "B4k3rS-5PyX3",
        "outputId": "16e58182-eb66-4e63-d817-110c35c5acbb"
      },
      "source": [
        "train=hourly_data.iloc[:285]\n",
        "test=hourly_data.iloc[285:]\n",
        "print(train.shape,test.shape)"
      ],
      "execution_count": 29,
      "outputs": [
        {
          "output_type": "stream",
          "text": [
            "(285, 1) (123, 1)\n"
          ],
          "name": "stdout"
        }
      ]
    },
    {
      "cell_type": "code",
      "metadata": {
        "colab": {
          "base_uri": "https://localhost:8080/"
        },
        "id": "ozBWza-jQWI_",
        "outputId": "372f3c44-5123-4e7e-cb92-dcbeecdc205f"
      },
      "source": [
        "print(train.shape,test.shape)"
      ],
      "execution_count": 30,
      "outputs": [
        {
          "output_type": "stream",
          "text": [
            "(285, 1) (123, 1)\n"
          ],
          "name": "stdout"
        }
      ]
    },
    {
      "cell_type": "code",
      "metadata": {
        "colab": {
          "base_uri": "https://localhost:8080/",
          "height": 309
        },
        "id": "TSWrsF7xRYvl",
        "outputId": "6a87fe44-906e-4095-c6d2-5868ff3f3b9f"
      },
      "source": [
        "model=ARIMA(train['power'].dropna(),order=(1,0,0))\n",
        "model=model.fit()\n",
        "model.summary()"
      ],
      "execution_count": 31,
      "outputs": [
        {
          "output_type": "execute_result",
          "data": {
            "text/html": [
              "<table class=\"simpletable\">\n",
              "<caption>ARMA Model Results</caption>\n",
              "<tr>\n",
              "  <th>Dep. Variable:</th>       <td>power</td>      <th>  No. Observations:  </th>    <td>285</td>   \n",
              "</tr>\n",
              "<tr>\n",
              "  <th>Model:</th>            <td>ARMA(1, 0)</td>    <th>  Log Likelihood     </th> <td>-1998.402</td>\n",
              "</tr>\n",
              "<tr>\n",
              "  <th>Method:</th>             <td>css-mle</td>     <th>  S.D. of innovations</th>  <td>268.480</td> \n",
              "</tr>\n",
              "<tr>\n",
              "  <th>Date:</th>          <td>Fri, 16 Apr 2021</td> <th>  AIC                </th> <td>4002.805</td> \n",
              "</tr>\n",
              "<tr>\n",
              "  <th>Time:</th>              <td>20:01:10</td>     <th>  BIC                </th> <td>4013.762</td> \n",
              "</tr>\n",
              "<tr>\n",
              "  <th>Sample:</th>           <td>12-10-2020</td>    <th>  HQIC               </th> <td>4007.197</td> \n",
              "</tr>\n",
              "<tr>\n",
              "  <th></th>                 <td>- 12-21-2020</td>   <th>                     </th>     <td> </td>    \n",
              "</tr>\n",
              "</table>\n",
              "<table class=\"simpletable\">\n",
              "<tr>\n",
              "       <td></td>          <th>coef</th>     <th>std err</th>      <th>z</th>      <th>P>|z|</th>  <th>[0.025</th>    <th>0.975]</th>  \n",
              "</tr>\n",
              "<tr>\n",
              "  <th>const</th>       <td>  875.4642</td> <td>   24.280</td> <td>   36.057</td> <td> 0.000</td> <td>  827.876</td> <td>  923.052</td>\n",
              "</tr>\n",
              "<tr>\n",
              "  <th>ar.L1.power</th> <td>    0.3462</td> <td>    0.055</td> <td>    6.247</td> <td> 0.000</td> <td>    0.238</td> <td>    0.455</td>\n",
              "</tr>\n",
              "</table>\n",
              "<table class=\"simpletable\">\n",
              "<caption>Roots</caption>\n",
              "<tr>\n",
              "    <td></td>   <th>            Real</th>  <th>         Imaginary</th> <th>         Modulus</th>  <th>        Frequency</th>\n",
              "</tr>\n",
              "<tr>\n",
              "  <th>AR.1</th> <td>           2.8884</td> <td>          +0.0000j</td> <td>           2.8884</td> <td>           0.0000</td>\n",
              "</tr>\n",
              "</table>"
            ],
            "text/plain": [
              "<class 'statsmodels.iolib.summary.Summary'>\n",
              "\"\"\"\n",
              "                              ARMA Model Results                              \n",
              "==============================================================================\n",
              "Dep. Variable:                  power   No. Observations:                  285\n",
              "Model:                     ARMA(1, 0)   Log Likelihood               -1998.402\n",
              "Method:                       css-mle   S.D. of innovations            268.480\n",
              "Date:                Fri, 16 Apr 2021   AIC                           4002.805\n",
              "Time:                        20:01:10   BIC                           4013.762\n",
              "Sample:                    12-10-2020   HQIC                          4007.197\n",
              "                         - 12-21-2020                                         \n",
              "===============================================================================\n",
              "                  coef    std err          z      P>|z|      [0.025      0.975]\n",
              "-------------------------------------------------------------------------------\n",
              "const         875.4642     24.280     36.057      0.000     827.876     923.052\n",
              "ar.L1.power     0.3462      0.055      6.247      0.000       0.238       0.455\n",
              "                                    Roots                                    \n",
              "=============================================================================\n",
              "                  Real          Imaginary           Modulus         Frequency\n",
              "-----------------------------------------------------------------------------\n",
              "AR.1            2.8884           +0.0000j            2.8884            0.0000\n",
              "-----------------------------------------------------------------------------\n",
              "\"\"\""
            ]
          },
          "metadata": {
            "tags": []
          },
          "execution_count": 31
        }
      ]
    },
    {
      "cell_type": "code",
      "metadata": {
        "colab": {
          "base_uri": "https://localhost:8080/"
        },
        "id": "K4KpWeGoRgpi",
        "outputId": "d5312270-4023-449e-c5a3-19ef61164e3d"
      },
      "source": [
        "start=len(train)\n",
        "end=len(train)+len(test)-1\n",
        "pred=model.predict(start=start,end=end,typ='levels')\n",
        "print(pred)"
      ],
      "execution_count": 32,
      "outputs": [
        {
          "output_type": "stream",
          "text": [
            "2020-12-21 21:00:00    863.961478\n",
            "2020-12-21 22:00:00    871.481803\n",
            "2020-12-21 23:00:00    874.085461\n",
            "2020-12-22 00:00:00    874.986889\n",
            "2020-12-22 01:00:00    875.298978\n",
            "                          ...    \n",
            "2020-12-26 19:00:00    875.464247\n",
            "2020-12-26 20:00:00    875.464247\n",
            "2020-12-26 21:00:00    875.464247\n",
            "2020-12-26 22:00:00    875.464247\n",
            "2020-12-26 23:00:00    875.464247\n",
            "Freq: H, Length: 123, dtype: float64\n"
          ],
          "name": "stdout"
        }
      ]
    },
    {
      "cell_type": "code",
      "metadata": {
        "colab": {
          "base_uri": "https://localhost:8080/",
          "height": 318
        },
        "id": "MzuxgfD6RxY_",
        "outputId": "4e205cb7-2dbd-4b92-9ffa-16f5fbeeb4e8"
      },
      "source": [
        "pred.plot(legend=True)\n",
        "test['power'].plot(legend=True)"
      ],
      "execution_count": 33,
      "outputs": [
        {
          "output_type": "execute_result",
          "data": {
            "text/plain": [
              "<matplotlib.axes._subplots.AxesSubplot at 0x7f2d8aef7b50>"
            ]
          },
          "metadata": {
            "tags": []
          },
          "execution_count": 33
        },
        {
          "output_type": "display_data",
          "data": {
            "image/png": "[encoded data removed]",
            "text/plain": [
              "<Figure size 432x288 with 1 Axes>"
            ]
          },
          "metadata": {
            "tags": [],
            "needs_background": "light"
          }
        }
      ]
    },
    {
      "cell_type": "code",
      "metadata": {
        "colab": {
          "base_uri": "https://localhost:8080/"
        },
        "id": "uMhTV5WUSDzJ",
        "outputId": "e68d2970-a5d2-405e-f9a3-405d6c376752"
      },
      "source": [
        "test['power'].mean()\n"
      ],
      "execution_count": 34,
      "outputs": [
        {
          "output_type": "execute_result",
          "data": {
            "text/plain": [
              "848.9476422764229"
            ]
          },
          "metadata": {
            "tags": []
          },
          "execution_count": 34
        }
      ]
    },
    {
      "cell_type": "code",
      "metadata": {
        "colab": {
          "base_uri": "https://localhost:8080/"
        },
        "id": "f2GNgAHNSJyj",
        "outputId": "6604cf53-3217-4ace-91d1-15565d32cc98"
      },
      "source": [
        "from sklearn.metrics import mean_squared_error\n",
        "from math import sqrt\n",
        "rmse=sqrt(mean_squared_error(pred,test['power']))\n",
        "print(rmse)"
      ],
      "execution_count": 35,
      "outputs": [
        {
          "output_type": "stream",
          "text": [
            "226.41282230912128\n"
          ],
          "name": "stdout"
        }
      ]
    },
    {
      "cell_type": "code",
      "metadata": {
        "colab": {
          "base_uri": "https://localhost:8080/",
          "height": 235
        },
        "id": "yNaGOconSQv4",
        "outputId": "aa337f37-1c27-41ee-e249-25a1cf8181c9"
      },
      "source": [
        "model2=ARIMA(hourly_data['power'],order=(1,0,0))\n",
        "model2=model2.fit()\n",
        "hourly_data.tail()"
      ],
      "execution_count": 37,
      "outputs": [
        {
          "output_type": "execute_result",
          "data": {
            "text/html": [
              "<div>\n",
              "<style scoped>\n",
              "    .dataframe tbody tr th:only-of-type {\n",
              "        vertical-align: middle;\n",
              "    }\n",
              "\n",
              "    .dataframe tbody tr th {\n",
              "        vertical-align: top;\n",
              "    }\n",
              "\n",
              "    .dataframe thead th {\n",
              "        text-align: right;\n",
              "    }\n",
              "</style>\n",
              "<table border=\"1\" class=\"dataframe\">\n",
              "  <thead>\n",
              "    <tr style=\"text-align: right;\">\n",
              "      <th></th>\n",
              "      <th>power</th>\n",
              "    </tr>\n",
              "    <tr>\n",
              "      <th>occurtime</th>\n",
              "      <th></th>\n",
              "    </tr>\n",
              "  </thead>\n",
              "  <tbody>\n",
              "    <tr>\n",
              "      <th>2020-12-26 19:00:00</th>\n",
              "      <td>1565.17</td>\n",
              "    </tr>\n",
              "    <tr>\n",
              "      <th>2020-12-26 20:00:00</th>\n",
              "      <td>837.60</td>\n",
              "    </tr>\n",
              "    <tr>\n",
              "      <th>2020-12-26 21:00:00</th>\n",
              "      <td>1022.72</td>\n",
              "    </tr>\n",
              "    <tr>\n",
              "      <th>2020-12-26 22:00:00</th>\n",
              "      <td>500.80</td>\n",
              "    </tr>\n",
              "    <tr>\n",
              "      <th>2020-12-26 23:00:00</th>\n",
              "      <td>1004.00</td>\n",
              "    </tr>\n",
              "  </tbody>\n",
              "</table>\n",
              "</div>"
            ],
            "text/plain": [
              "                       power\n",
              "occurtime                   \n",
              "2020-12-26 19:00:00  1565.17\n",
              "2020-12-26 20:00:00   837.60\n",
              "2020-12-26 21:00:00  1022.72\n",
              "2020-12-26 22:00:00   500.80\n",
              "2020-12-26 23:00:00  1004.00"
            ]
          },
          "metadata": {
            "tags": []
          },
          "execution_count": 37
        }
      ]
    },
    {
      "cell_type": "code",
      "metadata": {
        "colab": {
          "base_uri": "https://localhost:8080/"
        },
        "id": "ol8rtXJISgS4",
        "outputId": "79896074-9260-411a-be0c-7c2d6f01c283"
      },
      "source": [
        "index_future_dates=pd.date_range(start='2020-12-26 23:00:00',end='2021-01-05 23:00:00')\n",
        "pred=model2.predict(start=len(hourly_data),end=len(hourly_data)+10,typ='levels').rename('arima preds')\n",
        "pred.index=index_future_dates\n",
        "print(pred)"
      ],
      "execution_count": 38,
      "outputs": [
        {
          "output_type": "stream",
          "text": [
            "2020-12-26 23:00:00    914.602479\n",
            "2020-12-27 23:00:00    883.837222\n",
            "2020-12-28 23:00:00    873.249668\n",
            "2020-12-29 23:00:00    869.606068\n",
            "2020-12-30 23:00:00    868.352159\n",
            "2020-12-31 23:00:00    867.920639\n",
            "2021-01-01 23:00:00    867.772136\n",
            "2021-01-02 23:00:00    867.721030\n",
            "2021-01-03 23:00:00    867.703443\n",
            "2021-01-04 23:00:00    867.697390\n",
            "2021-01-05 23:00:00    867.695307\n",
            "Freq: D, Name: arima preds, dtype: float64\n"
          ],
          "name": "stdout"
        }
      ]
    },
    {
      "cell_type": "code",
      "metadata": {
        "colab": {
          "base_uri": "https://localhost:8080/",
          "height": 337
        },
        "id": "MJlXnTL5TdyP",
        "outputId": "a71aecab-29c0-4c9c-80f4-3aac553698ed"
      },
      "source": [
        "pred.plot(figsize=(12,5),legend=True)\n"
      ],
      "execution_count": 39,
      "outputs": [
        {
          "output_type": "execute_result",
          "data": {
            "text/plain": [
              "<matplotlib.axes._subplots.AxesSubplot at 0x7f2d88e2f3d0>"
            ]
          },
          "metadata": {
            "tags": []
          },
          "execution_count": 39
        },
        {
          "output_type": "display_data",
          "data": {
            "image/png": "[encoded data removed]",
            "text/plain": [
              "<Figure size 864x360 with 1 Axes>"
            ]
          },
          "metadata": {
            "tags": [],
            "needs_background": "light"
          }
        }
      ]
    },
    {
      "cell_type": "markdown",
      "metadata": {
        "id": "0BQk29kGTpAM"
      },
      "source": [
        "**outliers** **removed**"
      ]
    },
    {
      "cell_type": "code",
      "metadata": {
        "colab": {
          "base_uri": "https://localhost:8080/"
        },
        "id": "zv5m-eUoTx6l",
        "outputId": "a0cee130-5378-48fa-81dc-d6c56fc427fb"
      },
      "source": [
        "from numpy.random import seed\n",
        "from numpy.random import randn\n",
        "from numpy import mean\n",
        "from numpy import std\n",
        "data_mean, data_std = mean(hourly_data['power']), std(hourly_data['power'])\n",
        "print(data_mean,data_std)"
      ],
      "execution_count": 40,
      "outputs": [
        {
          "output_type": "stream",
          "text": [
            "867.5055147058823 269.5425393720026\n"
          ],
          "name": "stdout"
        }
      ]
    },
    {
      "cell_type": "code",
      "metadata": {
        "colab": {
          "base_uri": "https://localhost:8080/"
        },
        "id": "e1FzDhh9T6vd",
        "outputId": "a748979f-789b-4612-fedb-a3c663a3482b"
      },
      "source": [
        "# identify outliers\n",
        "#std = 1\n",
        "cut_off = data_std * 1\n",
        "lower, upper = data_mean - cut_off, data_mean + cut_off\n",
        "print(lower,upper)\n",
        "# number of outliers and their vals outliers\n",
        "outliers = [x for x in hourly_data['power'] if x < lower or x > upper]\n",
        "print('Identified outliers: %d' % len(outliers))\n",
        "print(outliers)\n",
        "hourly_data_filtered=hourly_data[(hourly_data.power>=lower)&(hourly_data.power<=upper)]\n",
        "hourly_data_filtered.shape"
      ],
      "execution_count": 46,
      "outputs": [
        {
          "output_type": "stream",
          "text": [
            "597.9629753338797 1137.048054077885\n",
            "Identified outliers: 79\n",
            "[1310.64, 1521.35, 502.64, 1167.12, 1151.52, 1621.4499999999998, 1512.24, 249.76, 0.0, 0.0, 0.0, 520.56, 502.24, 497.28000000000003, 1309.04, 1281.33, 1189.9199999999998, 1147.8400000000001, 496.0, 492.56, 1288.3099999999997, 1581.04, 374.96, 1165.76, 1153.28, 1663.28, 1563.7599999999998, 1337.1200000000001, 1474.9199999999998, 498.88, 509.76, 1686.5199999999998, 1495.68, 1138.8000000000002, 492.15999999999997, 1733.4799999999996, 1524.48, 359.6, 500.16, 1559.3899999999999, 1621.3600000000001, 500.88, 503.6, 1830.08, 1499.3600000000001, 506.08000000000004, 484.8, 1837.54, 1149.44, 527.28, 1142.1599999999999, 1143.76, 1690.8600000000001, 1547.1999999999998, 1149.76, 1631.3399999999997, 1520.24, 1152.8799999999999, 1469.44, 1416.28, 1155.52, 1469.0, 485.84, 512.96, 1163.92, 1444.9699999999998, 485.12000000000006, 493.36, 498.72, 490.88, 1696.9800000000002, 1243.44, 520.0, 504.56000000000006, 504.79999999999995, 491.03999999999996, 1296.6399999999999, 1565.17, 500.8]\n"
          ],
          "name": "stdout"
        },
        {
          "output_type": "execute_result",
          "data": {
            "text/plain": [
              "(329, 1)"
            ]
          },
          "metadata": {
            "tags": []
          },
          "execution_count": 46
        }
      ]
    },
    {
      "cell_type": "code",
      "metadata": {
        "colab": {
          "base_uri": "https://localhost:8080/"
        },
        "id": "VJNdTAvNUifl",
        "outputId": "342ffcca-be9d-4704-fe6a-0f38e650f9e2"
      },
      "source": [
        "from scipy import stats\n",
        "z_scores = stats.zscore(hourly_data)\n",
        "abs_z_scores = np.abs(z_scores)\n",
        "filtered_entries = (abs_z_scores < 3).all(axis=1)\n",
        "new_df = hourly_data[filtered_entries]\n",
        "\n",
        "print(new_df)"
      ],
      "execution_count": 44,
      "outputs": [
        {
          "output_type": "stream",
          "text": [
            "                       power\n",
            "occurtime                   \n",
            "2020-12-10 00:00:00   882.56\n",
            "2020-12-10 01:00:00   873.44\n",
            "2020-12-10 02:00:00   897.76\n",
            "2020-12-10 03:00:00  1310.64\n",
            "2020-12-10 04:00:00  1521.35\n",
            "...                      ...\n",
            "2020-12-26 19:00:00  1565.17\n",
            "2020-12-26 20:00:00   837.60\n",
            "2020-12-26 21:00:00  1022.72\n",
            "2020-12-26 22:00:00   500.80\n",
            "2020-12-26 23:00:00  1004.00\n",
            "\n",
            "[399 rows x 1 columns]\n"
          ],
          "name": "stdout"
        }
      ]
    },
    {
      "cell_type": "code",
      "metadata": {
        "colab": {
          "base_uri": "https://localhost:8080/"
        },
        "id": "ihnf4feAUyzI",
        "outputId": "c3df3335-19f7-4c3e-b35d-8b3edf7f009c"
      },
      "source": [
        "408-399"
      ],
      "execution_count": 45,
      "outputs": [
        {
          "output_type": "execute_result",
          "data": {
            "text/plain": [
              "9"
            ]
          },
          "metadata": {
            "tags": []
          },
          "execution_count": 45
        }
      ]
    },
    {
      "cell_type": "markdown",
      "metadata": {
        "id": "dg_Ky_rrVpfC"
      },
      "source": [
        "**stationarity for outliers**"
      ]
    },
    {
      "cell_type": "code",
      "metadata": {
        "colab": {
          "base_uri": "https://localhost:8080/"
        },
        "id": "dB-uF0_kVbkr",
        "outputId": "5cbff693-1b5b-4ca1-f3da-51edd1eada39"
      },
      "source": [
        "adfuller_test(new_df['power'])\n"
      ],
      "execution_count": 63,
      "outputs": [
        {
          "output_type": "stream",
          "text": [
            "ADF Test Statistic : -11.223795396845421\n",
            "p-value : 1.9834565059770225e-20\n",
            "#Lags Used : 1\n",
            "Number of Observations Used : 397\n",
            "strong evidence against the null hypothesis(Ho), reject the null hypothesis. Data has no unit root and is stationary\n"
          ],
          "name": "stdout"
        }
      ]
    },
    {
      "cell_type": "code",
      "metadata": {
        "colab": {
          "base_uri": "https://localhost:8080/"
        },
        "id": "e8p1oniJWcl7",
        "outputId": "55e5525c-2e20-4186-a7c8-b95f84ede1eb"
      },
      "source": [
        "399*.7\n"
      ],
      "execution_count": 52,
      "outputs": [
        {
          "output_type": "execute_result",
          "data": {
            "text/plain": [
              "279.29999999999995"
            ]
          },
          "metadata": {
            "tags": []
          },
          "execution_count": 52
        }
      ]
    },
    {
      "cell_type": "code",
      "metadata": {
        "colab": {
          "base_uri": "https://localhost:8080/"
        },
        "id": "9PwdOEsYVu0u",
        "outputId": "c0bcfa63-07ef-424f-e60e-9f58a1c74969"
      },
      "source": [
        "adfuller_test(hourly_data_filtered['power'])\n"
      ],
      "execution_count": 48,
      "outputs": [
        {
          "output_type": "stream",
          "text": [
            "ADF Test Statistic : -11.004284278000666\n",
            "p-value : 6.563448670768958e-20\n",
            "#Lags Used : 1\n",
            "Number of Observations Used : 327\n",
            "strong evidence against the null hypothesis(Ho), reject the null hypothesis. Data has no unit root and is stationary\n"
          ],
          "name": "stdout"
        }
      ]
    },
    {
      "cell_type": "code",
      "metadata": {
        "colab": {
          "base_uri": "https://localhost:8080/"
        },
        "id": "T1XZ7L4ZV0MN",
        "outputId": "81a97e68-d103-4cf6-aec9-28112e511771"
      },
      "source": [
        "stepwise_fit=auto_arima(hourly_data_filtered['power'].dropna(),trace=True,supress_warnings=True)\n"
      ],
      "execution_count": 64,
      "outputs": [
        {
          "output_type": "stream",
          "text": [
            "Performing stepwise search to minimize aic\n",
            " ARIMA(2,0,2)(0,0,0)[0] intercept   : AIC=4185.607, Time=0.28 sec\n",
            " ARIMA(0,0,0)(0,0,0)[0] intercept   : AIC=4190.766, Time=0.02 sec\n",
            " ARIMA(1,0,0)(0,0,0)[0] intercept   : AIC=4190.388, Time=0.04 sec\n",
            " ARIMA(0,0,1)(0,0,0)[0] intercept   : AIC=4191.019, Time=0.13 sec\n",
            " ARIMA(0,0,0)(0,0,0)[0]             : AIC=5368.683, Time=0.01 sec\n",
            " ARIMA(1,0,2)(0,0,0)[0] intercept   : AIC=4183.681, Time=0.16 sec\n",
            " ARIMA(0,0,2)(0,0,0)[0] intercept   : AIC=4181.799, Time=0.17 sec\n",
            " ARIMA(0,0,3)(0,0,0)[0] intercept   : AIC=4183.693, Time=0.35 sec\n",
            " ARIMA(1,0,1)(0,0,0)[0] intercept   : AIC=4193.557, Time=0.09 sec\n",
            " ARIMA(1,0,3)(0,0,0)[0] intercept   : AIC=4185.713, Time=0.21 sec\n",
            " ARIMA(0,0,2)(0,0,0)[0]             : AIC=4874.407, Time=0.25 sec\n",
            "\n",
            "Best model:  ARIMA(0,0,2)(0,0,0)[0] intercept\n",
            "Total fit time: 1.723 seconds\n"
          ],
          "name": "stdout"
        }
      ]
    },
    {
      "cell_type": "code",
      "metadata": {
        "colab": {
          "base_uri": "https://localhost:8080/"
        },
        "id": "OhXOdY46V_Te",
        "outputId": "36269aba-b677-4275-d892-f4b265707cba"
      },
      "source": [
        "n_train=hourly_data.iloc[:230]\n",
        "n_test=hourly_data.iloc[230:]\n",
        "print(n_train.shape,n_test.shape)"
      ],
      "execution_count": 67,
      "outputs": [
        {
          "output_type": "stream",
          "text": [
            "(230, 1) (178, 1)\n"
          ],
          "name": "stdout"
        }
      ]
    },
    {
      "cell_type": "code",
      "metadata": {
        "colab": {
          "base_uri": "https://localhost:8080/"
        },
        "id": "QlLcxdEVZj4J",
        "outputId": "d2cd0139-6aa7-4cd2-cf56-76824720ede4"
      },
      "source": [
        "329*.7\n"
      ],
      "execution_count": 66,
      "outputs": [
        {
          "output_type": "execute_result",
          "data": {
            "text/plain": [
              "230.29999999999998"
            ]
          },
          "metadata": {
            "tags": []
          },
          "execution_count": 66
        }
      ]
    },
    {
      "cell_type": "code",
      "metadata": {
        "colab": {
          "base_uri": "https://localhost:8080/",
          "height": 351
        },
        "id": "EQUSnxBjX9WW",
        "outputId": "c3fcc795-703a-4767-d39c-e58cfb29f2e7"
      },
      "source": [
        "n_model=ARIMA(n_train['power'].dropna(),order=(0,0,2))\n",
        "n_model=n_model.fit()\n",
        "n_model.summary()"
      ],
      "execution_count": 68,
      "outputs": [
        {
          "output_type": "execute_result",
          "data": {
            "text/html": [
              "<table class=\"simpletable\">\n",
              "<caption>ARMA Model Results</caption>\n",
              "<tr>\n",
              "  <th>Dep. Variable:</th>       <td>power</td>      <th>  No. Observations:  </th>    <td>230</td>   \n",
              "</tr>\n",
              "<tr>\n",
              "  <th>Model:</th>            <td>ARMA(0, 2)</td>    <th>  Log Likelihood     </th> <td>-1612.196</td>\n",
              "</tr>\n",
              "<tr>\n",
              "  <th>Method:</th>             <td>css-mle</td>     <th>  S.D. of innovations</th>  <td>267.834</td> \n",
              "</tr>\n",
              "<tr>\n",
              "  <th>Date:</th>          <td>Fri, 16 Apr 2021</td> <th>  AIC                </th> <td>3232.391</td> \n",
              "</tr>\n",
              "<tr>\n",
              "  <th>Time:</th>              <td>20:37:21</td>     <th>  BIC                </th> <td>3246.143</td> \n",
              "</tr>\n",
              "<tr>\n",
              "  <th>Sample:</th>           <td>12-10-2020</td>    <th>  HQIC               </th> <td>3237.939</td> \n",
              "</tr>\n",
              "<tr>\n",
              "  <th></th>                 <td>- 12-19-2020</td>   <th>                     </th>     <td> </td>    \n",
              "</tr>\n",
              "</table>\n",
              "<table class=\"simpletable\">\n",
              "<tr>\n",
              "       <td></td>          <th>coef</th>     <th>std err</th>      <th>z</th>      <th>P>|z|</th>  <th>[0.025</th>    <th>0.975]</th>  \n",
              "</tr>\n",
              "<tr>\n",
              "  <th>const</th>       <td>  867.0587</td> <td>   25.379</td> <td>   34.164</td> <td> 0.000</td> <td>  817.316</td> <td>  916.801</td>\n",
              "</tr>\n",
              "<tr>\n",
              "  <th>ma.L1.power</th> <td>    0.2950</td> <td>    0.065</td> <td>    4.542</td> <td> 0.000</td> <td>    0.168</td> <td>    0.422</td>\n",
              "</tr>\n",
              "<tr>\n",
              "  <th>ma.L2.power</th> <td>    0.1446</td> <td>    0.070</td> <td>    2.070</td> <td> 0.038</td> <td>    0.008</td> <td>    0.282</td>\n",
              "</tr>\n",
              "</table>\n",
              "<table class=\"simpletable\">\n",
              "<caption>Roots</caption>\n",
              "<tr>\n",
              "    <td></td>   <th>            Real</th>  <th>         Imaginary</th> <th>         Modulus</th>  <th>        Frequency</th>\n",
              "</tr>\n",
              "<tr>\n",
              "  <th>MA.1</th> <td>          -1.0199</td> <td>          -2.4239j</td> <td>           2.6297</td> <td>          -0.3134</td>\n",
              "</tr>\n",
              "<tr>\n",
              "  <th>MA.2</th> <td>          -1.0199</td> <td>          +2.4239j</td> <td>           2.6297</td> <td>           0.3134</td>\n",
              "</tr>\n",
              "</table>"
            ],
            "text/plain": [
              "<class 'statsmodels.iolib.summary.Summary'>\n",
              "\"\"\"\n",
              "                              ARMA Model Results                              \n",
              "==============================================================================\n",
              "Dep. Variable:                  power   No. Observations:                  230\n",
              "Model:                     ARMA(0, 2)   Log Likelihood               -1612.196\n",
              "Method:                       css-mle   S.D. of innovations            267.834\n",
              "Date:                Fri, 16 Apr 2021   AIC                           3232.391\n",
              "Time:                        20:37:21   BIC                           3246.143\n",
              "Sample:                    12-10-2020   HQIC                          3237.939\n",
              "                         - 12-19-2020                                         \n",
              "===============================================================================\n",
              "                  coef    std err          z      P>|z|      [0.025      0.975]\n",
              "-------------------------------------------------------------------------------\n",
              "const         867.0587     25.379     34.164      0.000     817.316     916.801\n",
              "ma.L1.power     0.2950      0.065      4.542      0.000       0.168       0.422\n",
              "ma.L2.power     0.1446      0.070      2.070      0.038       0.008       0.282\n",
              "                                    Roots                                    \n",
              "=============================================================================\n",
              "                  Real          Imaginary           Modulus         Frequency\n",
              "-----------------------------------------------------------------------------\n",
              "MA.1           -1.0199           -2.4239j            2.6297           -0.3134\n",
              "MA.2           -1.0199           +2.4239j            2.6297            0.3134\n",
              "-----------------------------------------------------------------------------\n",
              "\"\"\""
            ]
          },
          "metadata": {
            "tags": []
          },
          "execution_count": 68
        }
      ]
    },
    {
      "cell_type": "code",
      "metadata": {
        "colab": {
          "base_uri": "https://localhost:8080/"
        },
        "id": "6sw_vDXuYfw9",
        "outputId": "42a73dc2-d70b-4c20-d945-54f25e410069"
      },
      "source": [
        "n_start=len(n_train)\n",
        "n_end=len(n_train)+len(n_test)-1\n",
        "n_pred=n_model.predict(start=n_start,end=n_end,typ='levels')\n",
        "print(n_pred)"
      ],
      "execution_count": 69,
      "outputs": [
        {
          "output_type": "stream",
          "text": [
            "2020-12-19 14:00:00    895.365857\n",
            "2020-12-19 15:00:00    903.352970\n",
            "2020-12-19 16:00:00    867.058728\n",
            "2020-12-19 17:00:00    867.058728\n",
            "2020-12-19 18:00:00    867.058728\n",
            "                          ...    \n",
            "2020-12-26 19:00:00    867.058728\n",
            "2020-12-26 20:00:00    867.058728\n",
            "2020-12-26 21:00:00    867.058728\n",
            "2020-12-26 22:00:00    867.058728\n",
            "2020-12-26 23:00:00    867.058728\n",
            "Freq: H, Length: 178, dtype: float64\n"
          ],
          "name": "stdout"
        }
      ]
    },
    {
      "cell_type": "code",
      "metadata": {
        "colab": {
          "base_uri": "https://localhost:8080/",
          "height": 318
        },
        "id": "-oot1CxKYv80",
        "outputId": "18f3a1f2-bc54-4026-d1cd-63ffd66498ef"
      },
      "source": [
        "n_pred.plot(legend=True)\n",
        "n_test['power'].plot(legend=True)"
      ],
      "execution_count": 70,
      "outputs": [
        {
          "output_type": "execute_result",
          "data": {
            "text/plain": [
              "<matplotlib.axes._subplots.AxesSubplot at 0x7f2d88d1d990>"
            ]
          },
          "metadata": {
            "tags": []
          },
          "execution_count": 70
        },
        {
          "output_type": "display_data",
          "data": {
            "image/png": "[encoded data removed]",
            "text/plain": [
              "<Figure size 432x288 with 1 Axes>"
            ]
          },
          "metadata": {
            "tags": [],
            "needs_background": "light"
          }
        }
      ]
    },
    {
      "cell_type": "code",
      "metadata": {
        "colab": {
          "base_uri": "https://localhost:8080/"
        },
        "id": "LGmsbpeuY53t",
        "outputId": "c62a3241-0317-426f-8b75-6863f64dd0a1"
      },
      "source": [
        "n_test['power'].mean()"
      ],
      "execution_count": 71,
      "outputs": [
        {
          "output_type": "execute_result",
          "data": {
            "text/plain": [
              "868.5324719101123"
            ]
          },
          "metadata": {
            "tags": []
          },
          "execution_count": 71
        }
      ]
    },
    {
      "cell_type": "code",
      "metadata": {
        "colab": {
          "base_uri": "https://localhost:8080/"
        },
        "id": "vpTdr1NZY_uw",
        "outputId": "f15c9e6a-ccd5-4b6a-cc87-ff4b91b52e28"
      },
      "source": [
        "n_rmse=sqrt(mean_squared_error(n_pred,n_test['power']))\n",
        "print(n_rmse)"
      ],
      "execution_count": 72,
      "outputs": [
        {
          "output_type": "stream",
          "text": [
            "249.01862860471363\n"
          ],
          "name": "stdout"
        }
      ]
    }
  ]
}