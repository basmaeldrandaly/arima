{
  "nbformat": 4,
  "nbformat_minor": 0,
  "metadata": {
    "colab": {
      "name": "arima_bad.ipynb",
      "provenance": [],
      "collapsed_sections": []
    },
    "kernelspec": {
      "name": "python3",
      "display_name": "Python 3"
    },
    "language_info": {
      "name": "python"
    }
  },
  "cells": [
    {
      "cell_type": "code",
      "metadata": {
        "colab": {
          "base_uri": "https://localhost:8080/"
        },
        "id": "zsscQG6lLHwg",
        "outputId": "5284ae0e-ab4b-49f3-a767-37056115ed61"
      },
      "source": [
        "!pip install pmdarima"
      ],
      "execution_count": null,
      "outputs": [
        {
          "output_type": "stream",
          "text": [
            "Requirement already satisfied: pmdarima in /usr/local/lib/python3.7/dist-packages (1.8.0)\n",
            "Requirement already satisfied: setuptools!=50.0.0,>=38.6.0 in /usr/local/lib/python3.7/dist-packages (from pmdarima) (54.1.2)\n",
            "Requirement already satisfied: scikit-learn>=0.22 in /usr/local/lib/python3.7/dist-packages (from pmdarima) (0.22.2.post1)\n",
            "Requirement already satisfied: joblib>=0.11 in /usr/local/lib/python3.7/dist-packages (from pmdarima) (1.0.1)\n",
            "Requirement already satisfied: urllib3 in /usr/local/lib/python3.7/dist-packages (from pmdarima) (1.24.3)\n",
            "Requirement already satisfied: statsmodels!=0.12.0,>=0.11 in /usr/local/lib/python3.7/dist-packages (from pmdarima) (0.12.2)\n",
            "Requirement already satisfied: pandas>=0.19 in /usr/local/lib/python3.7/dist-packages (from pmdarima) (1.1.5)\n",
            "Requirement already satisfied: scipy>=1.3.2 in /usr/local/lib/python3.7/dist-packages (from pmdarima) (1.4.1)\n",
            "Requirement already satisfied: numpy>=1.17.3 in /usr/local/lib/python3.7/dist-packages (from pmdarima) (1.19.5)\n",
            "Requirement already satisfied: Cython<0.29.18,>=0.29 in /usr/local/lib/python3.7/dist-packages (from pmdarima) (0.29.17)\n",
            "Requirement already satisfied: patsy>=0.5 in /usr/local/lib/python3.7/dist-packages (from statsmodels!=0.12.0,>=0.11->pmdarima) (0.5.1)\n",
            "Requirement already satisfied: pytz>=2017.2 in /usr/local/lib/python3.7/dist-packages (from pandas>=0.19->pmdarima) (2018.9)\n",
            "Requirement already satisfied: python-dateutil>=2.7.3 in /usr/local/lib/python3.7/dist-packages (from pandas>=0.19->pmdarima) (2.8.1)\n",
            "Requirement already satisfied: six in /usr/local/lib/python3.7/dist-packages (from patsy>=0.5->statsmodels!=0.12.0,>=0.11->pmdarima) (1.15.0)\n"
          ],
          "name": "stdout"
        }
      ]
    },
    {
      "cell_type": "code",
      "metadata": {
        "id": "ZYWwUxOF5WPl"
      },
      "source": [
        "import pandas as pd\n",
        "import numpy as np"
      ],
      "execution_count": null,
      "outputs": []
    },
    {
      "cell_type": "code",
      "metadata": {
        "id": "cWgXTyJr5yD_"
      },
      "source": [
        "df=pd.read_csv(\"household_daily.csv\",header=0,infer_datetime_format=True,parse_dates=['occurtime'],index_col=['occurtime'])\n"
      ],
      "execution_count": null,
      "outputs": []
    },
    {
      "cell_type": "code",
      "metadata": {
        "colab": {
          "base_uri": "https://localhost:8080/",
          "height": 235
        },
        "id": "43E2_qao7Efq",
        "outputId": "6486456f-da35-4045-e925-91ee26b23e1f"
      },
      "source": [
        "df.head()"
      ],
      "execution_count": null,
      "outputs": [
        {
          "output_type": "execute_result",
          "data": {
            "text/html": [
              "<div>\n",
              "<style scoped>\n",
              "    .dataframe tbody tr th:only-of-type {\n",
              "        vertical-align: middle;\n",
              "    }\n",
              "\n",
              "    .dataframe tbody tr th {\n",
              "        vertical-align: top;\n",
              "    }\n",
              "\n",
              "    .dataframe thead th {\n",
              "        text-align: right;\n",
              "    }\n",
              "</style>\n",
              "<table border=\"1\" class=\"dataframe\">\n",
              "  <thead>\n",
              "    <tr style=\"text-align: right;\">\n",
              "      <th></th>\n",
              "      <th>power</th>\n",
              "    </tr>\n",
              "    <tr>\n",
              "      <th>occurtime</th>\n",
              "      <th></th>\n",
              "    </tr>\n",
              "  </thead>\n",
              "  <tbody>\n",
              "    <tr>\n",
              "      <th>2020-12-10</th>\n",
              "      <td>21980.39</td>\n",
              "    </tr>\n",
              "    <tr>\n",
              "      <th>2020-12-11</th>\n",
              "      <td>16564.25</td>\n",
              "    </tr>\n",
              "    <tr>\n",
              "      <th>2020-12-12</th>\n",
              "      <td>20359.33</td>\n",
              "    </tr>\n",
              "    <tr>\n",
              "      <th>2020-12-13</th>\n",
              "      <td>21630.15</td>\n",
              "    </tr>\n",
              "    <tr>\n",
              "      <th>2020-12-14</th>\n",
              "      <td>22984.32</td>\n",
              "    </tr>\n",
              "  </tbody>\n",
              "</table>\n",
              "</div>"
            ],
            "text/plain": [
              "               power\n",
              "occurtime           \n",
              "2020-12-10  21980.39\n",
              "2020-12-11  16564.25\n",
              "2020-12-12  20359.33\n",
              "2020-12-13  21630.15\n",
              "2020-12-14  22984.32"
            ]
          },
          "metadata": {
            "tags": []
          },
          "execution_count": 9
        }
      ]
    },
    {
      "cell_type": "code",
      "metadata": {
        "colab": {
          "base_uri": "https://localhost:8080/"
        },
        "id": "xELXn1Et7Jbz",
        "outputId": "8f56c570-c96a-4724-e048-63643648c896"
      },
      "source": [
        "df.shape"
      ],
      "execution_count": null,
      "outputs": [
        {
          "output_type": "execute_result",
          "data": {
            "text/plain": [
              "(71, 1)"
            ]
          },
          "metadata": {
            "tags": []
          },
          "execution_count": 10
        }
      ]
    },
    {
      "cell_type": "code",
      "metadata": {
        "colab": {
          "base_uri": "https://localhost:8080/",
          "height": 386
        },
        "id": "Ra29nuJc7R3_",
        "outputId": "9b1fd491-cb20-4d0c-fd10-995472118328"
      },
      "source": [
        "df['power'].plot(figsize=(12,5))"
      ],
      "execution_count": null,
      "outputs": [
        {
          "output_type": "execute_result",
          "data": {
            "text/plain": [
              "<matplotlib.axes._subplots.AxesSubplot at 0x7f5b64933a10>"
            ]
          },
          "metadata": {
            "tags": []
          },
          "execution_count": 12
        },
        {
          "output_type": "display_data",
          "data": {
            "image/png": "[encoded data removed]",
            "text/plain": [
              "<Figure size 864x360 with 1 Axes>"
            ]
          },
          "metadata": {
            "tags": [],
            "needs_background": "light"
          }
        }
      ]
    },
    {
      "cell_type": "code",
      "metadata": {
        "id": "HNXCSUZv7iLy"
      },
      "source": [
        "from statsmodels.tsa.stattools import adfuller\n"
      ],
      "execution_count": null,
      "outputs": []
    },
    {
      "cell_type": "code",
      "metadata": {
        "id": "EmHHhAf_7s5Y"
      },
      "source": [
        "def ad_test(dataset):\n",
        "  dftest=adfuller(dataset,autolag='AIC')\n",
        "  print(\"1. ADF: \",dftest[0])\n",
        "  print(\"2. P_val : \",dftest[1])\n",
        "  print(\"3. no. of lags : \",dftest[2])\n",
        "  print(\"4. no. of observations used for ADF regression and critical vals calc : \",dftest[3])\n",
        "  print(\"5. critical vals : \")\n",
        "  for key,val in dftest[4].items():\n",
        "    print(\"\\t\",key,\": \",val)\n"
      ],
      "execution_count": null,
      "outputs": []
    },
    {
      "cell_type": "code",
      "metadata": {
        "colab": {
          "base_uri": "https://localhost:8080/"
        },
        "id": "yTlJHEBB8-uw",
        "outputId": "652facad-2a39-4b73-c304-6377fb35067a"
      },
      "source": [
        "ad_test(df['power'])"
      ],
      "execution_count": null,
      "outputs": [
        {
          "output_type": "stream",
          "text": [
            "1. ADF:  -3.0349579163791107\n",
            "2. P_val :  0.03175624149284774\n",
            "3. no. of lags :  5\n",
            "4. no. of observations used for ADF regression and critical vals calc :  65\n",
            "5. critical vals : \n",
            "\t 1% :  -3.5352168748293127\n",
            "\t 5% :  -2.9071540828402367\n",
            "\t 10% :  -2.5911025443786984\n"
          ],
          "name": "stdout"
        }
      ]
    },
    {
      "cell_type": "code",
      "metadata": {
        "id": "jq27QaLF9qZl"
      },
      "source": [
        "from pmdarima import auto_arima"
      ],
      "execution_count": null,
      "outputs": []
    },
    {
      "cell_type": "code",
      "metadata": {
        "id": "b_9wZMQ79uGt"
      },
      "source": [
        "import warnings\n",
        "warnings.filterwarnings('ignore')"
      ],
      "execution_count": null,
      "outputs": []
    },
    {
      "cell_type": "code",
      "metadata": {
        "colab": {
          "base_uri": "https://localhost:8080/"
        },
        "id": "7ji2JlR193aB",
        "outputId": "1fd57192-03ff-46b3-bc11-8eb34328f6a9"
      },
      "source": [
        "stepwise_fit=auto_arima(df['power'],trace=True,supress_warnings=True)"
      ],
      "execution_count": null,
      "outputs": [
        {
          "output_type": "stream",
          "text": [
            "Performing stepwise search to minimize aic\n",
            " ARIMA(2,0,2)(0,0,0)[0] intercept   : AIC=1476.765, Time=0.13 sec\n",
            " ARIMA(0,0,0)(0,0,0)[0] intercept   : AIC=1479.786, Time=0.01 sec\n",
            " ARIMA(1,0,0)(0,0,0)[0] intercept   : AIC=1474.814, Time=0.02 sec\n",
            " ARIMA(0,0,1)(0,0,0)[0] intercept   : AIC=1474.762, Time=0.03 sec\n",
            " ARIMA(0,0,0)(0,0,0)[0]             : AIC=1615.122, Time=0.01 sec\n",
            " ARIMA(1,0,1)(0,0,0)[0] intercept   : AIC=1476.934, Time=0.04 sec\n",
            " ARIMA(0,0,2)(0,0,0)[0] intercept   : AIC=1476.527, Time=0.04 sec\n",
            " ARIMA(1,0,2)(0,0,0)[0] intercept   : AIC=1478.433, Time=0.05 sec\n",
            " ARIMA(0,0,1)(0,0,0)[0]             : AIC=1574.810, Time=0.02 sec\n",
            "\n",
            "Best model:  ARIMA(0,0,1)(0,0,0)[0] intercept\n",
            "Total fit time: 0.379 seconds\n"
          ],
          "name": "stdout"
        }
      ]
    },
    {
      "cell_type": "code",
      "metadata": {
        "colab": {
          "base_uri": "https://localhost:8080/",
          "height": 440
        },
        "id": "GQiy9c46-Tvo",
        "outputId": "a18fc78f-25cd-46e9-f45c-c90059a5b03b"
      },
      "source": [
        "stepwise_fit.summary()"
      ],
      "execution_count": null,
      "outputs": [
        {
          "output_type": "execute_result",
          "data": {
            "text/html": [
              "<table class=\"simpletable\">\n",
              "<caption>SARIMAX Results</caption>\n",
              "<tr>\n",
              "  <th>Dep. Variable:</th>           <td>y</td>        <th>  No. Observations:  </th>    <td>71</td>   \n",
              "</tr>\n",
              "<tr>\n",
              "  <th>Model:</th>           <td>SARIMAX(0, 0, 1)</td> <th>  Log Likelihood     </th> <td>-734.381</td>\n",
              "</tr>\n",
              "<tr>\n",
              "  <th>Date:</th>            <td>Sat, 27 Mar 2021</td> <th>  AIC                </th> <td>1474.762</td>\n",
              "</tr>\n",
              "<tr>\n",
              "  <th>Time:</th>                <td>18:36:44</td>     <th>  BIC                </th> <td>1481.550</td>\n",
              "</tr>\n",
              "<tr>\n",
              "  <th>Sample:</th>                  <td>0</td>        <th>  HQIC               </th> <td>1477.461</td>\n",
              "</tr>\n",
              "<tr>\n",
              "  <th></th>                       <td> - 71</td>      <th>                     </th>     <td> </td>   \n",
              "</tr>\n",
              "<tr>\n",
              "  <th>Covariance Type:</th>        <td>opg</td>       <th>                     </th>     <td> </td>   \n",
              "</tr>\n",
              "</table>\n",
              "<table class=\"simpletable\">\n",
              "<tr>\n",
              "      <td></td>         <th>coef</th>     <th>std err</th>      <th>z</th>      <th>P>|z|</th>  <th>[0.025</th>    <th>0.975]</th>  \n",
              "</tr>\n",
              "<tr>\n",
              "  <th>intercept</th> <td> 1.891e+04</td> <td> 1459.731</td> <td>   12.951</td> <td> 0.000</td> <td>  1.6e+04</td> <td> 2.18e+04</td>\n",
              "</tr>\n",
              "<tr>\n",
              "  <th>ma.L1</th>     <td>    0.3675</td> <td>    0.087</td> <td>    4.231</td> <td> 0.000</td> <td>    0.197</td> <td>    0.538</td>\n",
              "</tr>\n",
              "<tr>\n",
              "  <th>sigma2</th>    <td> 6.304e+07</td> <td>    0.046</td> <td> 1.36e+09</td> <td> 0.000</td> <td>  6.3e+07</td> <td>  6.3e+07</td>\n",
              "</tr>\n",
              "</table>\n",
              "<table class=\"simpletable\">\n",
              "<tr>\n",
              "  <th>Ljung-Box (L1) (Q):</th>     <td>0.03</td> <th>  Jarque-Bera (JB):  </th> <td>75.80</td>\n",
              "</tr>\n",
              "<tr>\n",
              "  <th>Prob(Q):</th>                <td>0.85</td> <th>  Prob(JB):          </th> <td>0.00</td> \n",
              "</tr>\n",
              "<tr>\n",
              "  <th>Heteroskedasticity (H):</th> <td>7.95</td> <th>  Skew:              </th> <td>0.39</td> \n",
              "</tr>\n",
              "<tr>\n",
              "  <th>Prob(H) (two-sided):</th>    <td>0.00</td> <th>  Kurtosis:          </th> <td>8.00</td> \n",
              "</tr>\n",
              "</table><br/><br/>Warnings:<br/>[1] Covariance matrix calculated using the outer product of gradients (complex-step).<br/>[2] Covariance matrix is singular or near-singular, with condition number 1.16e+25. Standard errors may be unstable."
            ],
            "text/plain": [
              "<class 'statsmodels.iolib.summary.Summary'>\n",
              "\"\"\"\n",
              "                               SARIMAX Results                                \n",
              "==============================================================================\n",
              "Dep. Variable:                      y   No. Observations:                   71\n",
              "Model:               SARIMAX(0, 0, 1)   Log Likelihood                -734.381\n",
              "Date:                Sat, 27 Mar 2021   AIC                           1474.762\n",
              "Time:                        18:36:44   BIC                           1481.550\n",
              "Sample:                             0   HQIC                          1477.461\n",
              "                                 - 71                                         \n",
              "Covariance Type:                  opg                                         \n",
              "==============================================================================\n",
              "                 coef    std err          z      P>|z|      [0.025      0.975]\n",
              "------------------------------------------------------------------------------\n",
              "intercept   1.891e+04   1459.731     12.951      0.000     1.6e+04    2.18e+04\n",
              "ma.L1          0.3675      0.087      4.231      0.000       0.197       0.538\n",
              "sigma2      6.304e+07      0.046   1.36e+09      0.000     6.3e+07     6.3e+07\n",
              "===================================================================================\n",
              "Ljung-Box (L1) (Q):                   0.03   Jarque-Bera (JB):                75.80\n",
              "Prob(Q):                              0.85   Prob(JB):                         0.00\n",
              "Heteroskedasticity (H):               7.95   Skew:                             0.39\n",
              "Prob(H) (two-sided):                  0.00   Kurtosis:                         8.00\n",
              "===================================================================================\n",
              "\n",
              "Warnings:\n",
              "[1] Covariance matrix calculated using the outer product of gradients (complex-step).\n",
              "[2] Covariance matrix is singular or near-singular, with condition number 1.16e+25. Standard errors may be unstable.\n",
              "\"\"\""
            ]
          },
          "metadata": {
            "tags": []
          },
          "execution_count": 21
        }
      ]
    },
    {
      "cell_type": "code",
      "metadata": {
        "id": "sx_fxhOD_CND"
      },
      "source": [
        "from statsmodels.tsa.arima_model import ARIMA"
      ],
      "execution_count": null,
      "outputs": []
    },
    {
      "cell_type": "code",
      "metadata": {
        "colab": {
          "base_uri": "https://localhost:8080/"
        },
        "id": "KXE3g5ap_MDo",
        "outputId": "b890298b-7628-44d4-c490-3c829fbb6a2e"
      },
      "source": [
        "train=df.iloc[:45]\n",
        "test=df.iloc[45:]\n",
        "print(train.shape,test.shape)"
      ],
      "execution_count": null,
      "outputs": [
        {
          "output_type": "stream",
          "text": [
            "(45, 1) (26, 1)\n"
          ],
          "name": "stdout"
        }
      ]
    },
    {
      "cell_type": "code",
      "metadata": {
        "colab": {
          "base_uri": "https://localhost:8080/",
          "height": 309
        },
        "id": "cuwZknjM_3Oz",
        "outputId": "ff801d11-a3f3-4e61-e9b8-6afc14244bee"
      },
      "source": [
        "model=ARIMA(train['power'],order=(0,0,1))\n",
        "model=model.fit()\n",
        "model.summary()"
      ],
      "execution_count": null,
      "outputs": [
        {
          "output_type": "execute_result",
          "data": {
            "text/html": [
              "<table class=\"simpletable\">\n",
              "<caption>ARMA Model Results</caption>\n",
              "<tr>\n",
              "  <th>Dep. Variable:</th>       <td>power</td>      <th>  No. Observations:  </th>    <td>45</td>   \n",
              "</tr>\n",
              "<tr>\n",
              "  <th>Model:</th>            <td>ARMA(0, 1)</td>    <th>  Log Likelihood     </th> <td>-465.367</td>\n",
              "</tr>\n",
              "<tr>\n",
              "  <th>Method:</th>             <td>css-mle</td>     <th>  S.D. of innovations</th> <td>7491.239</td>\n",
              "</tr>\n",
              "<tr>\n",
              "  <th>Date:</th>          <td>Sat, 27 Mar 2021</td> <th>  AIC                </th>  <td>936.734</td>\n",
              "</tr>\n",
              "<tr>\n",
              "  <th>Time:</th>              <td>18:44:38</td>     <th>  BIC                </th>  <td>942.154</td>\n",
              "</tr>\n",
              "<tr>\n",
              "  <th>Sample:</th>           <td>12-10-2020</td>    <th>  HQIC               </th>  <td>938.754</td>\n",
              "</tr>\n",
              "<tr>\n",
              "  <th></th>                 <td>- 01-23-2021</td>   <th>                     </th>     <td> </td>   \n",
              "</tr>\n",
              "</table>\n",
              "<table class=\"simpletable\">\n",
              "<tr>\n",
              "       <td></td>          <th>coef</th>     <th>std err</th>      <th>z</th>      <th>P>|z|</th>  <th>[0.025</th>    <th>0.975]</th>  \n",
              "</tr>\n",
              "<tr>\n",
              "  <th>const</th>       <td> 2.036e+04</td> <td> 1446.073</td> <td>   14.077</td> <td> 0.000</td> <td> 1.75e+04</td> <td> 2.32e+04</td>\n",
              "</tr>\n",
              "<tr>\n",
              "  <th>ma.L1.power</th> <td>    0.3015</td> <td>    0.197</td> <td>    1.530</td> <td> 0.126</td> <td>   -0.085</td> <td>    0.688</td>\n",
              "</tr>\n",
              "</table>\n",
              "<table class=\"simpletable\">\n",
              "<caption>Roots</caption>\n",
              "<tr>\n",
              "    <td></td>   <th>            Real</th>  <th>         Imaginary</th> <th>         Modulus</th>  <th>        Frequency</th>\n",
              "</tr>\n",
              "<tr>\n",
              "  <th>MA.1</th> <td>          -3.3165</td> <td>          +0.0000j</td> <td>           3.3165</td> <td>           0.5000</td>\n",
              "</tr>\n",
              "</table>"
            ],
            "text/plain": [
              "<class 'statsmodels.iolib.summary.Summary'>\n",
              "\"\"\"\n",
              "                              ARMA Model Results                              \n",
              "==============================================================================\n",
              "Dep. Variable:                  power   No. Observations:                   45\n",
              "Model:                     ARMA(0, 1)   Log Likelihood                -465.367\n",
              "Method:                       css-mle   S.D. of innovations           7491.239\n",
              "Date:                Sat, 27 Mar 2021   AIC                            936.734\n",
              "Time:                        18:44:38   BIC                            942.154\n",
              "Sample:                    12-10-2020   HQIC                           938.754\n",
              "                         - 01-23-2021                                         \n",
              "===============================================================================\n",
              "                  coef    std err          z      P>|z|      [0.025      0.975]\n",
              "-------------------------------------------------------------------------------\n",
              "const        2.036e+04   1446.073     14.077      0.000    1.75e+04    2.32e+04\n",
              "ma.L1.power     0.3015      0.197      1.530      0.126      -0.085       0.688\n",
              "                                    Roots                                    \n",
              "=============================================================================\n",
              "                  Real          Imaginary           Modulus         Frequency\n",
              "-----------------------------------------------------------------------------\n",
              "MA.1           -3.3165           +0.0000j            3.3165            0.5000\n",
              "-----------------------------------------------------------------------------\n",
              "\"\"\""
            ]
          },
          "metadata": {
            "tags": []
          },
          "execution_count": 24
        }
      ]
    },
    {
      "cell_type": "code",
      "metadata": {
        "colab": {
          "base_uri": "https://localhost:8080/"
        },
        "id": "d6gZbAPJAccV",
        "outputId": "ca1e28ca-405a-4594-e0a5-6373f2cd16cb"
      },
      "source": [
        "start=len(train)\n",
        "end=len(train)+len(test)-1\n",
        "pred=model.predict(start=start,end=end,typ='levels')\n",
        "print(pred)"
      ],
      "execution_count": null,
      "outputs": [
        {
          "output_type": "stream",
          "text": [
            "2021-01-24    20101.178583\n",
            "2021-01-25    20356.265569\n",
            "2021-01-26    20356.265569\n",
            "2021-01-27    20356.265569\n",
            "2021-01-28    20356.265569\n",
            "2021-01-29    20356.265569\n",
            "2021-01-30    20356.265569\n",
            "2021-01-31    20356.265569\n",
            "2021-02-01    20356.265569\n",
            "2021-02-02    20356.265569\n",
            "2021-02-03    20356.265569\n",
            "2021-02-04    20356.265569\n",
            "2021-02-05    20356.265569\n",
            "2021-02-06    20356.265569\n",
            "2021-02-07    20356.265569\n",
            "2021-02-08    20356.265569\n",
            "2021-02-09    20356.265569\n",
            "2021-02-10    20356.265569\n",
            "2021-02-11    20356.265569\n",
            "2021-02-12    20356.265569\n",
            "2021-02-13    20356.265569\n",
            "2021-02-14    20356.265569\n",
            "2021-02-15    20356.265569\n",
            "2021-02-16    20356.265569\n",
            "2021-02-17    20356.265569\n",
            "2021-02-18    20356.265569\n",
            "Freq: D, dtype: float64\n"
          ],
          "name": "stdout"
        }
      ]
    },
    {
      "cell_type": "code",
      "metadata": {
        "colab": {
          "base_uri": "https://localhost:8080/",
          "height": 320
        },
        "id": "WgMDuF-4BSvX",
        "outputId": "2d9868a8-6ca7-47d8-818c-d00735ab27d3"
      },
      "source": [
        "pred.plot(legend=True)\n",
        "test['power'].plot(legend=True)"
      ],
      "execution_count": null,
      "outputs": [
        {
          "output_type": "execute_result",
          "data": {
            "text/plain": [
              "<matplotlib.axes._subplots.AxesSubplot at 0x7f5b58566350>"
            ]
          },
          "metadata": {
            "tags": []
          },
          "execution_count": 31
        },
        {
          "output_type": "display_data",
          "data": {
            "image/png": "[encoded data removed]",
            "text/plain": [
              "<Figure size 432x288 with 1 Axes>"
            ]
          },
          "metadata": {
            "tags": [],
            "needs_background": "light"
          }
        }
      ]
    },
    {
      "cell_type": "code",
      "metadata": {
        "colab": {
          "base_uri": "https://localhost:8080/"
        },
        "id": "ytH9m1meBtoL",
        "outputId": "ec0c6b6d-b892-4b2b-84ff-2ed8ad1ff3c1"
      },
      "source": [
        "test['power'].mean()"
      ],
      "execution_count": null,
      "outputs": [
        {
          "output_type": "execute_result",
          "data": {
            "text/plain": [
              "17217.805"
            ]
          },
          "metadata": {
            "tags": []
          },
          "execution_count": 32
        }
      ]
    },
    {
      "cell_type": "code",
      "metadata": {
        "colab": {
          "base_uri": "https://localhost:8080/"
        },
        "id": "n0JIMJhcBzeT",
        "outputId": "bddc1daa-1e24-44cd-f7f0-2d8e00508690"
      },
      "source": [
        "from sklearn.metrics import mean_squared_error\n",
        "from math import sqrt\n",
        "rmse=sqrt(mean_squared_error(pred,test['power']))\n",
        "print(rmse)"
      ],
      "execution_count": null,
      "outputs": [
        {
          "output_type": "stream",
          "text": [
            "8386.993556572834\n"
          ],
          "name": "stdout"
        }
      ]
    },
    {
      "cell_type": "code",
      "metadata": {
        "colab": {
          "base_uri": "https://localhost:8080/",
          "height": 235
        },
        "id": "OWao57BtDVEf",
        "outputId": "e9274d81-dda4-4409-d9f2-79951d54f1df"
      },
      "source": [
        "model2=ARIMA(df['power'],order=(0,0,1))\n",
        "model2=model2.fit()\n",
        "df.tail()"
      ],
      "execution_count": null,
      "outputs": [
        {
          "output_type": "execute_result",
          "data": {
            "text/html": [
              "<div>\n",
              "<style scoped>\n",
              "    .dataframe tbody tr th:only-of-type {\n",
              "        vertical-align: middle;\n",
              "    }\n",
              "\n",
              "    .dataframe tbody tr th {\n",
              "        vertical-align: top;\n",
              "    }\n",
              "\n",
              "    .dataframe thead th {\n",
              "        text-align: right;\n",
              "    }\n",
              "</style>\n",
              "<table border=\"1\" class=\"dataframe\">\n",
              "  <thead>\n",
              "    <tr style=\"text-align: right;\">\n",
              "      <th></th>\n",
              "      <th>power</th>\n",
              "    </tr>\n",
              "    <tr>\n",
              "      <th>occurtime</th>\n",
              "      <th></th>\n",
              "    </tr>\n",
              "  </thead>\n",
              "  <tbody>\n",
              "    <tr>\n",
              "      <th>2021-02-14</th>\n",
              "      <td>21124.72</td>\n",
              "    </tr>\n",
              "    <tr>\n",
              "      <th>2021-02-15</th>\n",
              "      <td>20928.51</td>\n",
              "    </tr>\n",
              "    <tr>\n",
              "      <th>2021-02-16</th>\n",
              "      <td>19299.25</td>\n",
              "    </tr>\n",
              "    <tr>\n",
              "      <th>2021-02-17</th>\n",
              "      <td>17978.39</td>\n",
              "    </tr>\n",
              "    <tr>\n",
              "      <th>2021-02-18</th>\n",
              "      <td>6791.59</td>\n",
              "    </tr>\n",
              "  </tbody>\n",
              "</table>\n",
              "</div>"
            ],
            "text/plain": [
              "               power\n",
              "occurtime           \n",
              "2021-02-14  21124.72\n",
              "2021-02-15  20928.51\n",
              "2021-02-16  19299.25\n",
              "2021-02-17  17978.39\n",
              "2021-02-18   6791.59"
            ]
          },
          "metadata": {
            "tags": []
          },
          "execution_count": 34
        }
      ]
    },
    {
      "cell_type": "code",
      "metadata": {
        "id": "6Ft98h4aDvt1"
      },
      "source": [
        "index_future_dates=pd.date_range(start='2021-02-18',end='2021-02-28')\n",
        "pred=model2.predict(start=len(df),end=len(df)+10,typ='levels').rename('arima preds')\n",
        "pred.index=index_future_dates"
      ],
      "execution_count": null,
      "outputs": []
    },
    {
      "cell_type": "code",
      "metadata": {
        "colab": {
          "base_uri": "https://localhost:8080/",
          "height": 360
        },
        "id": "8hkxYUBcFiMT",
        "outputId": "68eadbec-42f5-475b-cbe1-4be18cb6b241"
      },
      "source": [
        "pred.plot(figsize=(12,5),legend=True)"
      ],
      "execution_count": null,
      "outputs": [
        {
          "output_type": "execute_result",
          "data": {
            "text/plain": [
              "<matplotlib.axes._subplots.AxesSubplot at 0x7f5b58413050>"
            ]
          },
          "metadata": {
            "tags": []
          },
          "execution_count": 38
        },
        {
          "output_type": "display_data",
          "data": {
            "image/png": "[encoded data removed]",
            "text/plain": [
              "<Figure size 864x360 with 1 Axes>"
            ]
          },
          "metadata": {
            "tags": [],
            "needs_background": "light"
          }
        }
      ]
    }
  ]
}